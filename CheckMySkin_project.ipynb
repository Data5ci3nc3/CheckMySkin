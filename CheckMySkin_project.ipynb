{
  "nbformat": 4,
  "nbformat_minor": 0,
  "metadata": {
    "accelerator": "GPU",
    "colab": {
      "name": "CheckMySkin_project.ipynb",
      "provenance": [],
      "collapsed_sections": [],
      "machine_shape": "hm"
    },
    "kernelspec": {
      "display_name": "Python 3",
      "name": "python3"
    },
    "language_info": {
      "name": "python"
    }
  },
  "cells": [
    {
      "cell_type": "markdown",
      "source": [
        "# **Final project** \n",
        "### **CheckMySkin - Skin lesion control**\n",
        "by : Kamlesh Seeruttun, Valentin Lewandowski, Charlotte Villet, Ghizlane Daoudi & Pierre-Alexandre Chanteau"
      ],
      "metadata": {
        "id": "IuL9X-E0Ut11"
      }
    },
    {
      "cell_type": "markdown",
      "source": [
        "### **Mounting Google drive on Colab**"
      ],
      "metadata": {
        "id": "iS2_32ZzQnGQ"
      }
    },
    {
      "cell_type": "code",
      "metadata": {
        "id": "uAOvu-eF7Z0g",
        "colab": {
          "base_uri": "https://localhost:8080/"
        },
        "outputId": "94948c94-d051-4a81-f958-a710083a102c"
      },
      "source": [
        "from google.colab import drive\n",
        "drive.mount('/content/drive')"
      ],
      "execution_count": null,
      "outputs": [
        {
          "output_type": "stream",
          "name": "stdout",
          "text": [
            "Drive already mounted at /content/drive; to attempt to forcibly remount, call drive.mount(\"/content/drive\", force_remount=True).\n"
          ]
        }
      ]
    },
    {
      "cell_type": "markdown",
      "source": [
        "### **Importing useful librairies**"
      ],
      "metadata": {
        "id": "UgSfu14wQlDI"
      }
    },
    {
      "cell_type": "code",
      "metadata": {
        "id": "3u1SjlysLU-H"
      },
      "source": [
        "import tensorflow as tf \n",
        "import numpy as np\n",
        "import pandas as pd\n",
        "import datetime, os\n",
        "%load_ext tensorboard"
      ],
      "execution_count": null,
      "outputs": []
    },
    {
      "cell_type": "markdown",
      "source": [
        "### **Defining different working paths to access data and store results**"
      ],
      "metadata": {
        "id": "B-p731t8Q7lF"
      }
    },
    {
      "cell_type": "code",
      "metadata": {
        "id": "hqHYwbL8He0Z"
      },
      "source": [
        "path_csv = \"/content/drive/MyDrive/### Students ###/# Projects #/# BDMP #/SRC/HAM10000_metadata.csv\"\n",
        "path_to_file_img = \"/content/drive/MyDrive/### Students ###/# Projects #/# BDMP #/SRC/src_img/\"\n",
        "path_savemodel = \"/content/drive/MyDrive/### Students ###/# Projects #/# BDMP #/GHD/model_GHD4.h5\"\n",
        "checkpoint_path = \"/content/drive/MyDrive/### Students ###/# Projects #/# BDMP #/GHD/model_GHD4/cp-{epoch:04d}.ckpt\""
      ],
      "execution_count": null,
      "outputs": []
    },
    {
      "cell_type": "markdown",
      "source": [
        "### **Downloading the dataset and looking at the first five rows**"
      ],
      "metadata": {
        "id": "ayFbIWWIRBk4"
      }
    },
    {
      "cell_type": "markdown",
      "source": [
        "### **Basic statistics of the dataset**"
      ],
      "metadata": {
        "id": "ejc0xHw3RdKb"
      }
    },
    {
      "cell_type": "code",
      "metadata": {
        "colab": {
          "base_uri": "https://localhost:8080/",
          "height": 206
        },
        "id": "rUwoLAS4Lq7u",
        "outputId": "abebeac0-c2fd-4b79-a46f-efc67dffac1b"
      },
      "source": [
        "data_base = pd.read_csv(path_csv)\n",
        "data_base = data_base.sample(frac=1,random_state=0).reset_index(drop=True)\n",
        "data_base.head()"
      ],
      "execution_count": null,
      "outputs": [
        {
          "output_type": "execute_result",
          "data": {
            "text/html": [
              "<div>\n",
              "<style scoped>\n",
              "    .dataframe tbody tr th:only-of-type {\n",
              "        vertical-align: middle;\n",
              "    }\n",
              "\n",
              "    .dataframe tbody tr th {\n",
              "        vertical-align: top;\n",
              "    }\n",
              "\n",
              "    .dataframe thead th {\n",
              "        text-align: right;\n",
              "    }\n",
              "</style>\n",
              "<table border=\"1\" class=\"dataframe\">\n",
              "  <thead>\n",
              "    <tr style=\"text-align: right;\">\n",
              "      <th></th>\n",
              "      <th>lesion_id</th>\n",
              "      <th>image_id</th>\n",
              "      <th>dx</th>\n",
              "      <th>dx_type</th>\n",
              "      <th>age</th>\n",
              "      <th>sex</th>\n",
              "      <th>localization</th>\n",
              "    </tr>\n",
              "  </thead>\n",
              "  <tbody>\n",
              "    <tr>\n",
              "      <th>0</th>\n",
              "      <td>HAM_0002695</td>\n",
              "      <td>ISIC_0028664</td>\n",
              "      <td>nv</td>\n",
              "      <td>follow_up</td>\n",
              "      <td>45.0</td>\n",
              "      <td>male</td>\n",
              "      <td>back</td>\n",
              "    </tr>\n",
              "    <tr>\n",
              "      <th>1</th>\n",
              "      <td>HAM_0000370</td>\n",
              "      <td>ISIC_0025998</td>\n",
              "      <td>nv</td>\n",
              "      <td>follow_up</td>\n",
              "      <td>70.0</td>\n",
              "      <td>male</td>\n",
              "      <td>trunk</td>\n",
              "    </tr>\n",
              "    <tr>\n",
              "      <th>2</th>\n",
              "      <td>HAM_0006372</td>\n",
              "      <td>ISIC_0032817</td>\n",
              "      <td>nv</td>\n",
              "      <td>histo</td>\n",
              "      <td>35.0</td>\n",
              "      <td>male</td>\n",
              "      <td>back</td>\n",
              "    </tr>\n",
              "    <tr>\n",
              "      <th>3</th>\n",
              "      <td>HAM_0006835</td>\n",
              "      <td>ISIC_0026577</td>\n",
              "      <td>nv</td>\n",
              "      <td>histo</td>\n",
              "      <td>75.0</td>\n",
              "      <td>male</td>\n",
              "      <td>chest</td>\n",
              "    </tr>\n",
              "    <tr>\n",
              "      <th>4</th>\n",
              "      <td>HAM_0005536</td>\n",
              "      <td>ISIC_0026798</td>\n",
              "      <td>bcc</td>\n",
              "      <td>histo</td>\n",
              "      <td>45.0</td>\n",
              "      <td>male</td>\n",
              "      <td>lower extremity</td>\n",
              "    </tr>\n",
              "  </tbody>\n",
              "</table>\n",
              "</div>"
            ],
            "text/plain": [
              "     lesion_id      image_id   dx    dx_type   age   sex     localization\n",
              "0  HAM_0002695  ISIC_0028664   nv  follow_up  45.0  male             back\n",
              "1  HAM_0000370  ISIC_0025998   nv  follow_up  70.0  male            trunk\n",
              "2  HAM_0006372  ISIC_0032817   nv      histo  35.0  male             back\n",
              "3  HAM_0006835  ISIC_0026577   nv      histo  75.0  male            chest\n",
              "4  HAM_0005536  ISIC_0026798  bcc      histo  45.0  male  lower extremity"
            ]
          },
          "metadata": {},
          "execution_count": 4
        }
      ]
    },
    {
      "cell_type": "code",
      "metadata": {
        "id": "CoLGhPfkO4No",
        "colab": {
          "base_uri": "https://localhost:8080/"
        },
        "outputId": "2d6704a3-14c0-4c1e-c730-1110cede5489"
      },
      "source": [
        "data_base.shape"
      ],
      "execution_count": null,
      "outputs": [
        {
          "output_type": "execute_result",
          "data": {
            "text/plain": [
              "(10015, 7)"
            ]
          },
          "metadata": {},
          "execution_count": 5
        }
      ]
    },
    {
      "cell_type": "markdown",
      "source": [
        "### **Creating new column \"lesion_type\" for better readability**"
      ],
      "metadata": {
        "id": "X_rrPaU5Rk2T"
      }
    },
    {
      "cell_type": "code",
      "metadata": {
        "colab": {
          "base_uri": "https://localhost:8080/",
          "height": 206
        },
        "id": "oSviorEnfFoQ",
        "outputId": "79039588-800b-4eca-a4cc-a0eae9ea47dc"
      },
      "source": [
        "lesion_type_dict = {\n",
        "    'nv': 'Melanocytic nevi',\n",
        "    'mel': 'Melanoma',\n",
        "    'bkl': 'Benign keratosis-like lesions',\n",
        "    'bcc': 'Basal cell carcinoma',\n",
        "    'akiec': 'Actinic keratosis',\n",
        "    'vasc': 'Vascular lesions',\n",
        "    'df': 'Dermatofibroma'\n",
        "}\n",
        "\n",
        "data_base['lesion_type'] = data_base['dx'].map(lesion_type_dict.get) \n",
        "\n",
        "data_base = data_base.drop(columns=[\"dx\"])\n",
        "\n",
        "data_base.head()"
      ],
      "execution_count": null,
      "outputs": [
        {
          "output_type": "execute_result",
          "data": {
            "text/html": [
              "<div>\n",
              "<style scoped>\n",
              "    .dataframe tbody tr th:only-of-type {\n",
              "        vertical-align: middle;\n",
              "    }\n",
              "\n",
              "    .dataframe tbody tr th {\n",
              "        vertical-align: top;\n",
              "    }\n",
              "\n",
              "    .dataframe thead th {\n",
              "        text-align: right;\n",
              "    }\n",
              "</style>\n",
              "<table border=\"1\" class=\"dataframe\">\n",
              "  <thead>\n",
              "    <tr style=\"text-align: right;\">\n",
              "      <th></th>\n",
              "      <th>lesion_id</th>\n",
              "      <th>image_id</th>\n",
              "      <th>dx_type</th>\n",
              "      <th>age</th>\n",
              "      <th>sex</th>\n",
              "      <th>localization</th>\n",
              "      <th>lesion_type</th>\n",
              "    </tr>\n",
              "  </thead>\n",
              "  <tbody>\n",
              "    <tr>\n",
              "      <th>0</th>\n",
              "      <td>HAM_0002695</td>\n",
              "      <td>ISIC_0028664</td>\n",
              "      <td>follow_up</td>\n",
              "      <td>45.0</td>\n",
              "      <td>male</td>\n",
              "      <td>back</td>\n",
              "      <td>Melanocytic nevi</td>\n",
              "    </tr>\n",
              "    <tr>\n",
              "      <th>1</th>\n",
              "      <td>HAM_0000370</td>\n",
              "      <td>ISIC_0025998</td>\n",
              "      <td>follow_up</td>\n",
              "      <td>70.0</td>\n",
              "      <td>male</td>\n",
              "      <td>trunk</td>\n",
              "      <td>Melanocytic nevi</td>\n",
              "    </tr>\n",
              "    <tr>\n",
              "      <th>2</th>\n",
              "      <td>HAM_0006372</td>\n",
              "      <td>ISIC_0032817</td>\n",
              "      <td>histo</td>\n",
              "      <td>35.0</td>\n",
              "      <td>male</td>\n",
              "      <td>back</td>\n",
              "      <td>Melanocytic nevi</td>\n",
              "    </tr>\n",
              "    <tr>\n",
              "      <th>3</th>\n",
              "      <td>HAM_0006835</td>\n",
              "      <td>ISIC_0026577</td>\n",
              "      <td>histo</td>\n",
              "      <td>75.0</td>\n",
              "      <td>male</td>\n",
              "      <td>chest</td>\n",
              "      <td>Melanocytic nevi</td>\n",
              "    </tr>\n",
              "    <tr>\n",
              "      <th>4</th>\n",
              "      <td>HAM_0005536</td>\n",
              "      <td>ISIC_0026798</td>\n",
              "      <td>histo</td>\n",
              "      <td>45.0</td>\n",
              "      <td>male</td>\n",
              "      <td>lower extremity</td>\n",
              "      <td>Basal cell carcinoma</td>\n",
              "    </tr>\n",
              "  </tbody>\n",
              "</table>\n",
              "</div>"
            ],
            "text/plain": [
              "     lesion_id      image_id  ...     localization           lesion_type\n",
              "0  HAM_0002695  ISIC_0028664  ...             back      Melanocytic nevi\n",
              "1  HAM_0000370  ISIC_0025998  ...            trunk      Melanocytic nevi\n",
              "2  HAM_0006372  ISIC_0032817  ...             back      Melanocytic nevi\n",
              "3  HAM_0006835  ISIC_0026577  ...            chest      Melanocytic nevi\n",
              "4  HAM_0005536  ISIC_0026798  ...  lower extremity  Basal cell carcinoma\n",
              "\n",
              "[5 rows x 7 columns]"
            ]
          },
          "metadata": {},
          "execution_count": 6
        }
      ]
    },
    {
      "cell_type": "markdown",
      "source": [
        "### **Creating new column \"severity\" to classify the lesion types in three distinct groups**"
      ],
      "metadata": {
        "id": "iRxsxzxSR9QQ"
      }
    },
    {
      "cell_type": "code",
      "metadata": {
        "colab": {
          "base_uri": "https://localhost:8080/",
          "height": 206
        },
        "id": "A0I4YNWrexYC",
        "outputId": "ab565c48-c124-4164-9080-ab489d42d987"
      },
      "source": [
        "# Creating new column of severity\n",
        "\n",
        "severity_dict = {\n",
        "    'Melanocytic nevi': \"Don't worry, it's benign\",\n",
        "    'Melanoma': \"Detection of a potential severity, please consult a doctor\",\n",
        "    'Benign keratosis-like lesions': \"Don't worry, it's benign\",\n",
        "    'Basal cell carcinoma': \"Detection of a potential severity, please consult a doctor\",\n",
        "    'Actinic keratosis': 'To monitor',\n",
        "    'Vascular lesions': 'To monitor',\n",
        "    'Dermatofibroma': \"Don't worry, it's benign\"\n",
        "}\n",
        "\n",
        "data_base['severity'] = data_base['lesion_type'].map(severity_dict.get) \n",
        "\n",
        "data_base.head()"
      ],
      "execution_count": null,
      "outputs": [
        {
          "output_type": "execute_result",
          "data": {
            "text/html": [
              "<div>\n",
              "<style scoped>\n",
              "    .dataframe tbody tr th:only-of-type {\n",
              "        vertical-align: middle;\n",
              "    }\n",
              "\n",
              "    .dataframe tbody tr th {\n",
              "        vertical-align: top;\n",
              "    }\n",
              "\n",
              "    .dataframe thead th {\n",
              "        text-align: right;\n",
              "    }\n",
              "</style>\n",
              "<table border=\"1\" class=\"dataframe\">\n",
              "  <thead>\n",
              "    <tr style=\"text-align: right;\">\n",
              "      <th></th>\n",
              "      <th>lesion_id</th>\n",
              "      <th>image_id</th>\n",
              "      <th>dx_type</th>\n",
              "      <th>age</th>\n",
              "      <th>sex</th>\n",
              "      <th>localization</th>\n",
              "      <th>lesion_type</th>\n",
              "      <th>severity</th>\n",
              "    </tr>\n",
              "  </thead>\n",
              "  <tbody>\n",
              "    <tr>\n",
              "      <th>0</th>\n",
              "      <td>HAM_0002695</td>\n",
              "      <td>ISIC_0028664</td>\n",
              "      <td>follow_up</td>\n",
              "      <td>45.0</td>\n",
              "      <td>male</td>\n",
              "      <td>back</td>\n",
              "      <td>Melanocytic nevi</td>\n",
              "      <td>Don't worry, it's benign</td>\n",
              "    </tr>\n",
              "    <tr>\n",
              "      <th>1</th>\n",
              "      <td>HAM_0000370</td>\n",
              "      <td>ISIC_0025998</td>\n",
              "      <td>follow_up</td>\n",
              "      <td>70.0</td>\n",
              "      <td>male</td>\n",
              "      <td>trunk</td>\n",
              "      <td>Melanocytic nevi</td>\n",
              "      <td>Don't worry, it's benign</td>\n",
              "    </tr>\n",
              "    <tr>\n",
              "      <th>2</th>\n",
              "      <td>HAM_0006372</td>\n",
              "      <td>ISIC_0032817</td>\n",
              "      <td>histo</td>\n",
              "      <td>35.0</td>\n",
              "      <td>male</td>\n",
              "      <td>back</td>\n",
              "      <td>Melanocytic nevi</td>\n",
              "      <td>Don't worry, it's benign</td>\n",
              "    </tr>\n",
              "    <tr>\n",
              "      <th>3</th>\n",
              "      <td>HAM_0006835</td>\n",
              "      <td>ISIC_0026577</td>\n",
              "      <td>histo</td>\n",
              "      <td>75.0</td>\n",
              "      <td>male</td>\n",
              "      <td>chest</td>\n",
              "      <td>Melanocytic nevi</td>\n",
              "      <td>Don't worry, it's benign</td>\n",
              "    </tr>\n",
              "    <tr>\n",
              "      <th>4</th>\n",
              "      <td>HAM_0005536</td>\n",
              "      <td>ISIC_0026798</td>\n",
              "      <td>histo</td>\n",
              "      <td>45.0</td>\n",
              "      <td>male</td>\n",
              "      <td>lower extremity</td>\n",
              "      <td>Basal cell carcinoma</td>\n",
              "      <td>Detection of a potential severity, please cons...</td>\n",
              "    </tr>\n",
              "  </tbody>\n",
              "</table>\n",
              "</div>"
            ],
            "text/plain": [
              "     lesion_id  ...                                           severity\n",
              "0  HAM_0002695  ...                           Don't worry, it's benign\n",
              "1  HAM_0000370  ...                           Don't worry, it's benign\n",
              "2  HAM_0006372  ...                           Don't worry, it's benign\n",
              "3  HAM_0006835  ...                           Don't worry, it's benign\n",
              "4  HAM_0005536  ...  Detection of a potential severity, please cons...\n",
              "\n",
              "[5 rows x 8 columns]"
            ]
          },
          "metadata": {},
          "execution_count": 7
        }
      ]
    },
    {
      "cell_type": "markdown",
      "source": [
        "### **Creating new column \"localization2\" where the four possible values are face, upper part, lower part and unknown**"
      ],
      "metadata": {
        "id": "Q1i3fUFESaOg"
      }
    },
    {
      "cell_type": "code",
      "metadata": {
        "id": "Tcb1O0u3UXl2"
      },
      "source": [
        "data_base[\"localization2\"]= data_base['localization'].apply(lambda x : \n",
        "                             'face' if x=='face'\n",
        "                            else 'upper_part' if x=='trunk'or x=='upper extremity' or x=='abdomen' or x=='neck' or x=='scalp' or x=='hand' or x=='ear'\n",
        "                            else 'lower_part' if x=='back' or x=='lower extremity' or x=='chest' or x=='foot' or x=='genital' or x=='acral'\n",
        "                            else 'unknown')"
      ],
      "execution_count": null,
      "outputs": []
    },
    {
      "cell_type": "markdown",
      "source": [
        "### **Overview of a sample of five lines of the dataset**"
      ],
      "metadata": {
        "id": "KSut8ZpOWC-b"
      }
    },
    {
      "cell_type": "code",
      "metadata": {
        "colab": {
          "base_uri": "https://localhost:8080/",
          "height": 206
        },
        "id": "oUEULxdfVYrc",
        "outputId": "2824075c-60c8-4013-d04c-59a73e0453a0"
      },
      "source": [
        "data_base.head()"
      ],
      "execution_count": null,
      "outputs": [
        {
          "output_type": "execute_result",
          "data": {
            "text/html": [
              "<div>\n",
              "<style scoped>\n",
              "    .dataframe tbody tr th:only-of-type {\n",
              "        vertical-align: middle;\n",
              "    }\n",
              "\n",
              "    .dataframe tbody tr th {\n",
              "        vertical-align: top;\n",
              "    }\n",
              "\n",
              "    .dataframe thead th {\n",
              "        text-align: right;\n",
              "    }\n",
              "</style>\n",
              "<table border=\"1\" class=\"dataframe\">\n",
              "  <thead>\n",
              "    <tr style=\"text-align: right;\">\n",
              "      <th></th>\n",
              "      <th>lesion_id</th>\n",
              "      <th>image_id</th>\n",
              "      <th>dx_type</th>\n",
              "      <th>age</th>\n",
              "      <th>sex</th>\n",
              "      <th>localization</th>\n",
              "      <th>lesion_type</th>\n",
              "      <th>severity</th>\n",
              "      <th>localization2</th>\n",
              "    </tr>\n",
              "  </thead>\n",
              "  <tbody>\n",
              "    <tr>\n",
              "      <th>0</th>\n",
              "      <td>HAM_0002695</td>\n",
              "      <td>ISIC_0028664</td>\n",
              "      <td>follow_up</td>\n",
              "      <td>45.0</td>\n",
              "      <td>male</td>\n",
              "      <td>back</td>\n",
              "      <td>Melanocytic nevi</td>\n",
              "      <td>Don't worry, it's benign</td>\n",
              "      <td>lower_part</td>\n",
              "    </tr>\n",
              "    <tr>\n",
              "      <th>1</th>\n",
              "      <td>HAM_0000370</td>\n",
              "      <td>ISIC_0025998</td>\n",
              "      <td>follow_up</td>\n",
              "      <td>70.0</td>\n",
              "      <td>male</td>\n",
              "      <td>trunk</td>\n",
              "      <td>Melanocytic nevi</td>\n",
              "      <td>Don't worry, it's benign</td>\n",
              "      <td>upper_part</td>\n",
              "    </tr>\n",
              "    <tr>\n",
              "      <th>2</th>\n",
              "      <td>HAM_0006372</td>\n",
              "      <td>ISIC_0032817</td>\n",
              "      <td>histo</td>\n",
              "      <td>35.0</td>\n",
              "      <td>male</td>\n",
              "      <td>back</td>\n",
              "      <td>Melanocytic nevi</td>\n",
              "      <td>Don't worry, it's benign</td>\n",
              "      <td>lower_part</td>\n",
              "    </tr>\n",
              "    <tr>\n",
              "      <th>3</th>\n",
              "      <td>HAM_0006835</td>\n",
              "      <td>ISIC_0026577</td>\n",
              "      <td>histo</td>\n",
              "      <td>75.0</td>\n",
              "      <td>male</td>\n",
              "      <td>chest</td>\n",
              "      <td>Melanocytic nevi</td>\n",
              "      <td>Don't worry, it's benign</td>\n",
              "      <td>lower_part</td>\n",
              "    </tr>\n",
              "    <tr>\n",
              "      <th>4</th>\n",
              "      <td>HAM_0005536</td>\n",
              "      <td>ISIC_0026798</td>\n",
              "      <td>histo</td>\n",
              "      <td>45.0</td>\n",
              "      <td>male</td>\n",
              "      <td>lower extremity</td>\n",
              "      <td>Basal cell carcinoma</td>\n",
              "      <td>Detection of a potential severity, please cons...</td>\n",
              "      <td>lower_part</td>\n",
              "    </tr>\n",
              "  </tbody>\n",
              "</table>\n",
              "</div>"
            ],
            "text/plain": [
              "     lesion_id  ... localization2\n",
              "0  HAM_0002695  ...    lower_part\n",
              "1  HAM_0000370  ...    upper_part\n",
              "2  HAM_0006372  ...    lower_part\n",
              "3  HAM_0006835  ...    lower_part\n",
              "4  HAM_0005536  ...    lower_part\n",
              "\n",
              "[5 rows x 9 columns]"
            ]
          },
          "metadata": {},
          "execution_count": 9
        }
      ]
    },
    {
      "cell_type": "markdown",
      "source": [
        "### **Creating a new dataset with relevant columns and filling missing values in age column with the median**"
      ],
      "metadata": {
        "id": "gIMhYfgITLk5"
      }
    },
    {
      "cell_type": "code",
      "metadata": {
        "id": "JLA6YK_YfnNU"
      },
      "source": [
        "data=pd.DataFrame()\n",
        "data[\"image_id\"] = data_base[\"image_id\"].astype(\"str\") + \".jpg\"\n",
        "data[\"age\"]=data_base[\"age\"]\n",
        "data.loc[:,'age'] = data['age'].fillna(data['age'].median())\n",
        "data[\"sex\"] = data_base[\"sex\"]\n",
        "data[\"localization\"] = data_base[\"localization\"]\n",
        "data[\"severity\"]=data_base['severity']\n",
        "# data.describe(include=\"all\")"
      ],
      "execution_count": null,
      "outputs": []
    },
    {
      "cell_type": "markdown",
      "source": [
        "### **Overview of a sample of five lines of the new dataset**"
      ],
      "metadata": {
        "id": "sBohMWSdWQSX"
      }
    },
    {
      "cell_type": "code",
      "metadata": {
        "colab": {
          "base_uri": "https://localhost:8080/",
          "height": 206
        },
        "id": "LTPTNnyrlkN2",
        "outputId": "3c48357f-a1b7-40c6-df44-293b4eca9b58"
      },
      "source": [
        "data.head()"
      ],
      "execution_count": null,
      "outputs": [
        {
          "output_type": "execute_result",
          "data": {
            "text/html": [
              "<div>\n",
              "<style scoped>\n",
              "    .dataframe tbody tr th:only-of-type {\n",
              "        vertical-align: middle;\n",
              "    }\n",
              "\n",
              "    .dataframe tbody tr th {\n",
              "        vertical-align: top;\n",
              "    }\n",
              "\n",
              "    .dataframe thead th {\n",
              "        text-align: right;\n",
              "    }\n",
              "</style>\n",
              "<table border=\"1\" class=\"dataframe\">\n",
              "  <thead>\n",
              "    <tr style=\"text-align: right;\">\n",
              "      <th></th>\n",
              "      <th>image_id</th>\n",
              "      <th>age</th>\n",
              "      <th>sex</th>\n",
              "      <th>localization</th>\n",
              "      <th>severity</th>\n",
              "    </tr>\n",
              "  </thead>\n",
              "  <tbody>\n",
              "    <tr>\n",
              "      <th>0</th>\n",
              "      <td>ISIC_0028664.jpg</td>\n",
              "      <td>45.0</td>\n",
              "      <td>male</td>\n",
              "      <td>back</td>\n",
              "      <td>Don't worry, it's benign</td>\n",
              "    </tr>\n",
              "    <tr>\n",
              "      <th>1</th>\n",
              "      <td>ISIC_0025998.jpg</td>\n",
              "      <td>70.0</td>\n",
              "      <td>male</td>\n",
              "      <td>trunk</td>\n",
              "      <td>Don't worry, it's benign</td>\n",
              "    </tr>\n",
              "    <tr>\n",
              "      <th>2</th>\n",
              "      <td>ISIC_0032817.jpg</td>\n",
              "      <td>35.0</td>\n",
              "      <td>male</td>\n",
              "      <td>back</td>\n",
              "      <td>Don't worry, it's benign</td>\n",
              "    </tr>\n",
              "    <tr>\n",
              "      <th>3</th>\n",
              "      <td>ISIC_0026577.jpg</td>\n",
              "      <td>75.0</td>\n",
              "      <td>male</td>\n",
              "      <td>chest</td>\n",
              "      <td>Don't worry, it's benign</td>\n",
              "    </tr>\n",
              "    <tr>\n",
              "      <th>4</th>\n",
              "      <td>ISIC_0026798.jpg</td>\n",
              "      <td>45.0</td>\n",
              "      <td>male</td>\n",
              "      <td>lower extremity</td>\n",
              "      <td>Detection of a potential severity, please cons...</td>\n",
              "    </tr>\n",
              "  </tbody>\n",
              "</table>\n",
              "</div>"
            ],
            "text/plain": [
              "           image_id  ...                                           severity\n",
              "0  ISIC_0028664.jpg  ...                           Don't worry, it's benign\n",
              "1  ISIC_0025998.jpg  ...                           Don't worry, it's benign\n",
              "2  ISIC_0032817.jpg  ...                           Don't worry, it's benign\n",
              "3  ISIC_0026577.jpg  ...                           Don't worry, it's benign\n",
              "4  ISIC_0026798.jpg  ...  Detection of a potential severity, please cons...\n",
              "\n",
              "[5 rows x 5 columns]"
            ]
          },
          "metadata": {},
          "execution_count": 11
        }
      ]
    },
    {
      "cell_type": "markdown",
      "source": [
        "### **Create a sample of 100 rows to speed up the execution (used to make sure that the algorithm is running)**"
      ],
      "metadata": {
        "id": "uTqbj2-kWlwo"
      }
    },
    {
      "cell_type": "code",
      "source": [
        "data = data.sample(100).reset_index()"
      ],
      "metadata": {
        "id": "0b-Jo2jlWzHw"
      },
      "execution_count": null,
      "outputs": []
    },
    {
      "cell_type": "markdown",
      "source": [
        "### **Seperating the features from the target**"
      ],
      "metadata": {
        "id": "B23TvNArT-A7"
      }
    },
    {
      "cell_type": "code",
      "metadata": {
        "id": "FGDPMeg3SGrK"
      },
      "source": [
        "# Defining variables for the model\n",
        "image_name = 'image_id'\n",
        "target_name = 'severity'\n",
        "features_names = ['age','sex','localization']\n",
        "\n",
        "img = data.loc[:,image_name]\n",
        "\n",
        "# Separating images for tabular data and target to preprocess conveniently each one \n",
        "## Selecting tabular features for one-hot encoding\n",
        "X = data.loc[:,[c for c in features_names]]\n",
        "\n",
        "## Creating a series with paths to images. This will be used later to upload images\n",
        "path_to_im = [(str(path_to_file_img)+str(img[i])) for i in range(data.shape[0])]\n",
        "\n",
        "# Defining target for label-encoding\n",
        "Y = data.loc[:,target_name]"
      ],
      "execution_count": null,
      "outputs": []
    },
    {
      "cell_type": "markdown",
      "source": [
        "### **One-hot encoding features and label-encoding the target and importing different tools for further processing**"
      ],
      "metadata": {
        "id": "0TmULPQ3UsJQ"
      }
    },
    {
      "cell_type": "code",
      "metadata": {
        "id": "aRywj4UqubpC"
      },
      "source": [
        "# Preprocess the tabular features (all categorical) and the target\n",
        "\n",
        "## Importing OneHotEncoder and LabelEncoder modules from sklearn\n",
        "from sklearn.preprocessing import  OneHotEncoder, LabelEncoder\n",
        "\n",
        "## One-hot encoding tabular features\n",
        "OHE = OneHotEncoder(sparse=False)\n",
        "X = OHE.fit_transform(X) \n",
        "\n",
        "## Label-encoding the target\n",
        "le = LabelEncoder()\n",
        "Y = le.fit_transform(Y)"
      ],
      "execution_count": null,
      "outputs": []
    },
    {
      "cell_type": "markdown",
      "source": [
        "### **Storing the one-hot encoding in a joblib for future use while interpreting data input by users in the web app**"
      ],
      "metadata": {
        "id": "V8-L16ECYeta"
      }
    },
    {
      "cell_type": "code",
      "metadata": {
        "colab": {
          "base_uri": "https://localhost:8080/"
        },
        "id": "h3IBH97vlRSu",
        "outputId": "15dc4399-088b-4d7e-ca01-928cd0dacc67"
      },
      "source": [
        "import joblib \n",
        "\n",
        "joblib.dump(OHE, 'encoder.joblib')"
      ],
      "execution_count": null,
      "outputs": [
        {
          "output_type": "execute_result",
          "data": {
            "text/plain": [
              "['encoder.joblib']"
            ]
          },
          "metadata": {},
          "execution_count": 15
        }
      ]
    },
    {
      "cell_type": "markdown",
      "source": [
        "### **Listing feature categories and target classes**"
      ],
      "metadata": {
        "id": "ktf4_RnAaa6F"
      }
    },
    {
      "cell_type": "code",
      "metadata": {
        "id": "0mwme0Ywur09"
      },
      "source": [
        "import itertools\n",
        "\n",
        "col_X=list(itertools.chain.from_iterable(OHE.categories_))\n",
        "col_Y=list(le.classes_)"
      ],
      "execution_count": null,
      "outputs": []
    },
    {
      "cell_type": "markdown",
      "source": [
        "### **Tests to see if one-hot encoding and label-encoding are working as expected**"
      ],
      "metadata": {
        "id": "tVwAKfGYWHqn"
      }
    },
    {
      "cell_type": "code",
      "metadata": {
        "colab": {
          "base_uri": "https://localhost:8080/"
        },
        "id": "SehxMuPM6jtM",
        "outputId": "e0713f52-dc3e-4d14-cb98-93d6bc5d3eb1"
      },
      "source": [
        "# Lenth of the array of the one-hot encoding\n",
        "len(col_X)"
      ],
      "execution_count": null,
      "outputs": [
        {
          "output_type": "execute_result",
          "data": {
            "text/plain": [
              "36"
            ]
          },
          "metadata": {},
          "execution_count": 17
        }
      ]
    },
    {
      "cell_type": "code",
      "metadata": {
        "colab": {
          "base_uri": "https://localhost:8080/"
        },
        "id": "kkg7lRKxAlQa",
        "outputId": "fca82c77-f789-48cf-93d6-c7fdb6fcc381"
      },
      "source": [
        "# Lenth of the array of the label encoding\n",
        "col_Y"
      ],
      "execution_count": null,
      "outputs": [
        {
          "output_type": "execute_result",
          "data": {
            "text/plain": [
              "['Detection of a potential severity, please consult a doctor',\n",
              " \"Don't worry, it's benign\",\n",
              " 'To monitor']"
            ]
          },
          "metadata": {},
          "execution_count": 18
        }
      ]
    },
    {
      "cell_type": "markdown",
      "source": [
        "### **Verifying the correspondence between the initial classes and the encoded ones**"
      ],
      "metadata": {
        "id": "_CRqw8scbD_d"
      }
    },
    {
      "cell_type": "code",
      "metadata": {
        "colab": {
          "base_uri": "https://localhost:8080/"
        },
        "id": "pFfG0XnXjEKK",
        "outputId": "a2a6485b-8278-4df2-9e9b-704157b79f9c"
      },
      "source": [
        "le.transform(['Detection of a potential severity, please consult a doctor',\n",
        " \"Don't worry, it's benign\",\n",
        " 'To monitor'])"
      ],
      "execution_count": null,
      "outputs": [
        {
          "output_type": "execute_result",
          "data": {
            "text/plain": [
              "array([0, 1, 2])"
            ]
          },
          "metadata": {},
          "execution_count": 19
        }
      ]
    },
    {
      "cell_type": "markdown",
      "source": [
        "### **Test to make sure that the joblib encodes correctly the tabular inputs in the app**"
      ],
      "metadata": {
        "id": "Awsq6aryb4Kh"
      }
    },
    {
      "cell_type": "code",
      "metadata": {
        "id": "FyaFoCvQljnJ",
        "colab": {
          "base_uri": "https://localhost:8080/"
        },
        "outputId": "a186acbf-d5ef-4fc4-8076-8683bcac08b7"
      },
      "source": [
        "input_test={'age': 30,'sex': 'male','localization': 'face'}\n",
        "X_test = pd.DataFrame(input_test, index=[0])\n",
        "X_test\n",
        "OHE.transform(X_test)"
      ],
      "execution_count": null,
      "outputs": [
        {
          "output_type": "execute_result",
          "data": {
            "text/plain": [
              "array([[0., 0., 0., 0., 0., 0., 1., 0., 0., 0., 0., 0., 0., 0., 0., 0.,\n",
              "        0., 0., 0., 1., 0., 0., 0., 0., 0., 0., 1., 0., 0., 0., 0., 0.,\n",
              "        0., 0., 0., 0.]])"
            ]
          },
          "metadata": {},
          "execution_count": 20
        }
      ]
    },
    {
      "cell_type": "markdown",
      "source": [
        "### **Defining image size and channels of the images for the model**"
      ],
      "metadata": {
        "id": "kZnSp8tuWqS1"
      }
    },
    {
      "cell_type": "code",
      "metadata": {
        "id": "Qsc2gvxT8Vgs"
      },
      "source": [
        "IMG_SIZE = 256\n",
        "CHANNELS = 3"
      ],
      "execution_count": null,
      "outputs": []
    },
    {
      "cell_type": "markdown",
      "source": [
        "### **Defining a function to load and process images: this function takes the path where the image is stored as input and returns a tensor of the image decoded and resized**"
      ],
      "metadata": {
        "id": "f-DGwIC_Wy_7"
      }
    },
    {
      "cell_type": "code",
      "metadata": {
        "id": "RxWqb9n4jtJ9"
      },
      "source": [
        "def load_and_process_image(path_image) :\n",
        "  img_size=IMG_SIZE\n",
        "  im_bytes = tf.io.read_file(path_image)\n",
        "  image_dec = tf.image.decode_jpeg(im_bytes, name=\"tensor_image\", channels=CHANNELS)\n",
        "  im = tf.image.resize(image_dec,(img_size,img_size))\n",
        "  \n",
        "  return(im)"
      ],
      "execution_count": null,
      "outputs": []
    },
    {
      "cell_type": "markdown",
      "source": [
        "### **Creating arrays with tensors for tabular data, path to images and target**"
      ],
      "metadata": {
        "id": "mZt08Z7lXB1_"
      }
    },
    {
      "cell_type": "code",
      "metadata": {
        "id": "fAhnM_KYl4Tj"
      },
      "source": [
        "# Tabular features and target\n",
        "tabular = [(tf.reshape(tf.convert_to_tensor(X[i,:], name=\"tensor_cat_features\"),[1,-1])) for i in range(data.shape[0])]\n",
        "target = [(tf.constant(Y[i],name=\"tensor_target\")) for i in range(data.shape[0])]\n",
        "\n",
        "# Images\n",
        "#image = [load_and_process_image(\"/content/drive/MyDrive/### Students ###/# Projects #/# BDMP #/SRC/src_img/{}\".format(img[i]))for i in range(data.shape[0])]\n",
        "# The following method to store the decoded images didn't work for 10k images on Google Colab. It required too much memory ressources. That's the reason why we chose to use the \"\".map\" method\n",
        "path_to_im_tensor = [(tf.constant(path_to_im[i],name=\"tensor_path_to_image\")) for i in range(data.shape[0])]"
      ],
      "execution_count": null,
      "outputs": []
    },
    {
      "cell_type": "markdown",
      "source": [
        "### **Creating a TensorSliceDataset from the array with path_to_im_tensor for use with the \".map\" method**"
      ],
      "metadata": {
        "id": "TMEwSXQRd77B"
      }
    },
    {
      "cell_type": "code",
      "metadata": {
        "id": "h3azAah9pZ2E"
      },
      "source": [
        "ds = tf.data.Dataset.from_tensor_slices(path_to_im_tensor)"
      ],
      "execution_count": null,
      "outputs": []
    },
    {
      "cell_type": "markdown",
      "source": [
        "### **Creating a TensorSlice dataset for tabular features, images and the target respectively**"
      ],
      "metadata": {
        "id": "5ziwM86JYEs5"
      }
    },
    {
      "cell_type": "code",
      "metadata": {
        "id": "xc_B4yDpvjpe"
      },
      "source": [
        "image = ds.map(load_and_process_image)\n",
        "tabular = tf.data.Dataset.from_tensor_slices(tabular)\n",
        "target = tf.data.Dataset.from_tensor_slices(target)"
      ],
      "execution_count": null,
      "outputs": []
    },
    {
      "cell_type": "markdown",
      "source": [
        "### **Verifying the shape of the tabular input**"
      ],
      "metadata": {
        "id": "MhZL34z_eifM"
      }
    },
    {
      "cell_type": "code",
      "metadata": {
        "colab": {
          "base_uri": "https://localhost:8080/"
        },
        "id": "kwF-YhbKsaLl",
        "outputId": "fbbcf80d-ce68-4417-b0ad-c32d5f019549"
      },
      "source": [
        "tabular"
      ],
      "execution_count": null,
      "outputs": [
        {
          "output_type": "execute_result",
          "data": {
            "text/plain": [
              "<TensorSliceDataset shapes: (1, 36), types: tf.float64>"
            ]
          },
          "metadata": {},
          "execution_count": 26
        }
      ]
    },
    {
      "cell_type": "markdown",
      "source": [
        "### **Bringing together in a single dataset the image file, the tabular data and the target**"
      ],
      "metadata": {
        "id": "RF1hAFzZY0Tw"
      }
    },
    {
      "cell_type": "code",
      "metadata": {
        "id": "_byZvujEsVRr"
      },
      "source": [
        "# Zipping the three TensorSlice datasets into a tuple.\n",
        "# The first element of this tuple will contain a dictionnary with the image and the tabular features while the second one will contain the associated target\n",
        "df = tf.data.Dataset.zip(({\"input_image\": image, \"input_tabular\": tabular}, target))"
      ],
      "execution_count": null,
      "outputs": []
    },
    {
      "cell_type": "markdown",
      "source": [
        "### **Splitting the data into train, validation and test sets**"
      ],
      "metadata": {
        "id": "awQee01pZNws"
      }
    },
    {
      "cell_type": "code",
      "metadata": {
        "id": "IO_GDyHNAU3b"
      },
      "source": [
        "# Defining the dataset size and the batch size that will be used to train the model\n",
        "DATASET_SIZE = data.shape[0]\n",
        "BATCH_SIZE = 200\n",
        "\n",
        "# Defining proportions of data that will be used in the train set, the validation set and the test set\n",
        "train_size = int(0.7 * DATASET_SIZE)\n",
        "val_size = int(0.15 * DATASET_SIZE)\n",
        "test_size = int(0.15 * DATASET_SIZE)\n",
        "\n",
        "# Shuffling the dataset using a seed to make sure that it will behave the same way for all the team members \n",
        "# In the initial dataset the targets are not well shuffled. The methods .take() and .skip()) used below take data in the order they are. We will therefore shuffle our data first.\n",
        "full_dataset = df.shuffle(buffer_size=DATASET_SIZE, seed=123)\n",
        "\n",
        "# Defining train, val and test sets using the proportions defined above\n",
        "train_dataset = full_dataset.take(train_size)\n",
        "test_dataset = full_dataset.skip(train_size).take(test_size)\n",
        "val_dataset = full_dataset.skip(train_size + test_size)\n",
        "\n",
        "# Shuffling and batching the datasets\n",
        "train = train_dataset.shuffle(buffer_size=train_size,reshuffle_each_iteration=True).batch(BATCH_SIZE)\n",
        "val = val_dataset.shuffle(buffer_size=val_size,reshuffle_each_iteration=True).batch(BATCH_SIZE)\n",
        "test = test_dataset.batch(BATCH_SIZE)"
      ],
      "execution_count": null,
      "outputs": []
    },
    {
      "cell_type": "markdown",
      "source": [
        "### **Defining the different layers of the deep learning model**"
      ],
      "metadata": {
        "id": "pzEY42MVZvkX"
      }
    },
    {
      "cell_type": "code",
      "metadata": {
        "id": "pWWKfwJF9DY_"
      },
      "source": [
        "from tensorflow.keras.losses import SparseCategoricalCrossentropy\n",
        "from tensorflow.keras.metrics import SparseCategoricalAccuracy\n",
        "from tensorflow.keras.optimizers import Adam\n",
        "\n",
        "# Define shapes for model inputs and target\n",
        "img_data_shape = (IMG_SIZE, IMG_SIZE, CHANNELS)\n",
        "csv_data_shape = (1,X.shape[1])\n",
        "num_classes = len(data['severity'].unique())\n",
        "\n",
        "\n",
        "# Defining an architecture with two branches\n",
        "# Defining the two input channels : image and tabular data\n",
        "img_input = tf.keras.layers.Input(shape=img_data_shape, name=\"input_image\")\n",
        "csv_input = tf.keras.layers.Input(shape=csv_data_shape, name=\"input_tabular\")\n",
        "\n",
        "# Defining layers for image data \n",
        "x1 = tf.keras.layers.experimental.preprocessing.Rescaling(1./255)(img_input)\n",
        "x1 = tf.keras.layers.Conv2D(filters = 32, kernel_size = (3,3), strides = 1, padding = \"same\", activation = \"relu\", name=\"conv1_img\")(x1)\n",
        "x1 = tf.keras.layers.MaxPooling2D(name=\"mxp1_img\")(x1)\n",
        "x1 = tf.keras.layers.Conv2D(filters = 64, kernel_size = (3,3), strides = 1, padding = \"same\", activation = \"relu\", name=\"conv2_img\")(x1)\n",
        "x1 = tf.keras.layers.MaxPooling2D(name=\"mxp2_img\")(x1)\n",
        "x1 = tf.keras.layers.Conv2D(filters = 128, kernel_size = (3,3), strides = 1, padding = \"same\", activation = \"relu\", name=\"conv3_img\")(x1)\n",
        "x1 = tf.keras.layers.MaxPooling2D(name=\"mxp3_img\")(x1)\n",
        "x1 = tf.keras.layers.Conv2D(filters = 256, kernel_size = (2,2), strides = 1, padding = \"same\", activation = \"relu\", name=\"conv4_img\")(x1)\n",
        "x1 = tf.keras.layers.Conv2D(filters = 256, kernel_size = (2,2), strides = 1, padding = \"same\", activation = \"relu\", name=\"conv5_img\")(x1)\n",
        "x1 = tf.keras.layers.MaxPooling2D(name=\"mxp4_img\")(x1)\n",
        "x1 = tf.keras.layers.Flatten(name=\"flatten_img\")(x1)\n",
        "\n",
        "# Defining layers for tabular data\n",
        "#x2 = tf.keras.layers.Flatten(name=\"flatten_csv\")(csv_input)\n",
        "x2 = tf.keras.layers.Dense(len(col_X), activation='relu', name=\"dense1_csv\")(csv_input)\n",
        "x2 = tf.keras.layers.Dense(8, activation='relu', name=\"dense3_csv\")(x2)\n",
        "x2 = tf.keras.layers.Flatten(name=\"flatten_csv\")(x2)\n",
        "\n",
        "# Merging layers\n",
        "x = tf.keras.layers.concatenate([x1,x2], name=\"concat_csv_img\")\n",
        "x = tf.keras.layers.Dense(32, activation='relu', name=\"dense1_csv_img\")(x)\n",
        "x = tf.keras.layers.Dense(16, activation='relu', name=\"dense2_csv_img\")(x)\n",
        "output = tf.keras.layers.Dense(num_classes, activation=\"softmax\", name=\"classify\")(x)\n",
        "\n",
        "# Building the model with two branches: two inputs and one output\n",
        "model = tf.keras.models.Model(inputs=[img_input, csv_input], outputs=output)"
      ],
      "execution_count": null,
      "outputs": []
    },
    {
      "cell_type": "markdown",
      "source": [
        "### **Looking at the structure of the model created above**"
      ],
      "metadata": {
        "id": "KYiyJuuUaT6Q"
      }
    },
    {
      "cell_type": "code",
      "metadata": {
        "id": "TwAxv5jdhffT",
        "colab": {
          "base_uri": "https://localhost:8080/",
          "height": 1000
        },
        "outputId": "9c53f2b1-95cd-4310-a9ca-8b425e7b0472"
      },
      "source": [
        "tf.keras.utils.plot_model(model, show_shapes=True)"
      ],
      "execution_count": null,
      "outputs": [
        {
          "output_type": "execute_result",
          "data": {
            "image/png": "[encoded data removed]",
            "text/plain": [
              "<IPython.core.display.Image object>"
            ]
          },
          "metadata": {},
          "execution_count": 31
        }
      ]
    },
    {
      "cell_type": "markdown",
      "source": [
        "### **Compiling the model with the relevant optimizer, loss and metrics**"
      ],
      "metadata": {
        "id": "MXih2ENPagwv"
      }
    },
    {
      "cell_type": "code",
      "metadata": {
        "id": "8SVYbr95NxBU"
      },
      "source": [
        "# Importing losses, metrics and optimizers that will be used\n",
        "\n",
        "from tensorflow.keras.losses import SparseCategoricalCrossentropy\n",
        "from tensorflow.keras.metrics import SparseCategoricalAccuracy, Recall\n",
        "from tensorflow.keras.optimizers import Adam\n",
        "\n",
        "# Compiling the model\n",
        "model.compile(optimizer=Adam(),\n",
        "              loss=SparseCategoricalCrossentropy(),\n",
        "              metrics=[SparseCategoricalAccuracy()])"
      ],
      "execution_count": null,
      "outputs": []
    },
    {
      "cell_type": "code",
      "metadata": {
        "id": "_XyWhZ3NxvaQ"
      },
      "source": [
        "# Defining tensorboard callback\n",
        "logdir = os.path.join(\"logs\", datetime.datetime.now().strftime(\"%Y%m%d-%H%M%S\"))\n",
        "tensorboard_callback = tf.keras.callbacks.TensorBoard(logdir, histogram_freq=1)"
      ],
      "execution_count": null,
      "outputs": []
    },
    {
      "cell_type": "markdown",
      "source": [
        "### **# Defining and saving the chekpoints at the end of each epoch**"
      ],
      "metadata": {
        "id": "x2ng-ujxb4ig"
      }
    },
    {
      "cell_type": "code",
      "metadata": {
        "id": "TIJOjtVBQhK6"
      },
      "source": [
        "cp_callback = tf.keras.callbacks.ModelCheckpoint(\n",
        "    filepath=checkpoint_path, \n",
        "    verbose=1,\n",
        "    save_weights_only=True,\n",
        "    save_freq=1*len(train))\n",
        "model.save_weights(checkpoint_path.format(epoch=0))"
      ],
      "execution_count": null,
      "outputs": []
    },
    {
      "cell_type": "code",
      "metadata": {
        "colab": {
          "base_uri": "https://localhost:8080/"
        },
        "id": "_C_X7KItDznH",
        "outputId": "6cf5dfdf-b9e5-4cf9-8079-91ba51e8cb36"
      },
      "source": [
        "steps_per_epoch = train_size/BATCH_SIZE\n",
        "steps_per_epoch"
      ],
      "execution_count": null,
      "outputs": [
        {
          "output_type": "execute_result",
          "data": {
            "text/plain": [
              "35.05"
            ]
          },
          "metadata": {},
          "execution_count": 35
        }
      ]
    },
    {
      "cell_type": "markdown",
      "source": [
        "### **Training the model**"
      ],
      "metadata": {
        "id": "K27bqtKEcKbt"
      }
    },
    {
      "cell_type": "code",
      "metadata": {
        "id": "HaOypkbTN2Xf",
        "colab": {
          "base_uri": "https://localhost:8080/"
        },
        "outputId": "9cf9dcb2-0dc9-43b4-87e7-13ea6d41af69"
      },
      "source": [
        "history = model.fit(train, epochs=50, validation_data=val, callbacks=[tensorboard_callback,cp_callback])"
      ],
      "execution_count": null,
      "outputs": [
        {
          "output_type": "stream",
          "name": "stdout",
          "text": [
            "Epoch 1/50\n",
            "35/36 [============================>.] - ETA: 0s - loss: 0.6657 - sparse_categorical_accuracy: 0.7680\n",
            "Epoch 00001: saving model to /content/drive/MyDrive/### Students ###/# Projects #/# BDMP #/GHD/model_GHD4/cp-0001.ckpt\n",
            "36/36 [==============================] - 79s 1s/step - loss: 0.6655 - sparse_categorical_accuracy: 0.7680 - val_loss: 0.5768 - val_sparse_categorical_accuracy: 0.7984\n",
            "Epoch 2/50\n",
            "35/36 [============================>.] - ETA: 0s - loss: 0.5818 - sparse_categorical_accuracy: 0.7923\n",
            "Epoch 00002: saving model to /content/drive/MyDrive/### Students ###/# Projects #/# BDMP #/GHD/model_GHD4/cp-0002.ckpt\n",
            "36/36 [==============================] - 64s 1s/step - loss: 0.5816 - sparse_categorical_accuracy: 0.7924 - val_loss: 0.5566 - val_sparse_categorical_accuracy: 0.8051\n",
            "Epoch 3/50\n",
            "35/36 [============================>.] - ETA: 0s - loss: 0.5564 - sparse_categorical_accuracy: 0.7914\n",
            "Epoch 00003: saving model to /content/drive/MyDrive/### Students ###/# Projects #/# BDMP #/GHD/model_GHD4/cp-0003.ckpt\n",
            "36/36 [==============================] - 64s 1s/step - loss: 0.5564 - sparse_categorical_accuracy: 0.7914 - val_loss: 0.5067 - val_sparse_categorical_accuracy: 0.8024\n",
            "Epoch 4/50\n",
            "35/36 [============================>.] - ETA: 0s - loss: 0.5053 - sparse_categorical_accuracy: 0.7991\n",
            "Epoch 00004: saving model to /content/drive/MyDrive/### Students ###/# Projects #/# BDMP #/GHD/model_GHD4/cp-0004.ckpt\n",
            "36/36 [==============================] - 64s 1s/step - loss: 0.5051 - sparse_categorical_accuracy: 0.7991 - val_loss: 0.4510 - val_sparse_categorical_accuracy: 0.8051\n",
            "Epoch 5/50\n",
            "35/36 [============================>.] - ETA: 0s - loss: 0.4904 - sparse_categorical_accuracy: 0.7964\n",
            "Epoch 00005: saving model to /content/drive/MyDrive/### Students ###/# Projects #/# BDMP #/GHD/model_GHD4/cp-0005.ckpt\n",
            "36/36 [==============================] - 64s 1s/step - loss: 0.4914 - sparse_categorical_accuracy: 0.7960 - val_loss: 0.5046 - val_sparse_categorical_accuracy: 0.7784\n",
            "Epoch 6/50\n",
            "35/36 [============================>.] - ETA: 0s - loss: 0.4750 - sparse_categorical_accuracy: 0.7997\n",
            "Epoch 00006: saving model to /content/drive/MyDrive/### Students ###/# Projects #/# BDMP #/GHD/model_GHD4/cp-0006.ckpt\n",
            "36/36 [==============================] - 64s 1s/step - loss: 0.4749 - sparse_categorical_accuracy: 0.7999 - val_loss: 0.4537 - val_sparse_categorical_accuracy: 0.7984\n",
            "Epoch 7/50\n",
            "35/36 [============================>.] - ETA: 0s - loss: 0.4439 - sparse_categorical_accuracy: 0.8073\n",
            "Epoch 00007: saving model to /content/drive/MyDrive/### Students ###/# Projects #/# BDMP #/GHD/model_GHD4/cp-0007.ckpt\n",
            "36/36 [==============================] - 64s 1s/step - loss: 0.4441 - sparse_categorical_accuracy: 0.8071 - val_loss: 0.5193 - val_sparse_categorical_accuracy: 0.7791\n",
            "Epoch 8/50\n",
            "35/36 [============================>.] - ETA: 0s - loss: 0.4334 - sparse_categorical_accuracy: 0.8151\n",
            "Epoch 00008: saving model to /content/drive/MyDrive/### Students ###/# Projects #/# BDMP #/GHD/model_GHD4/cp-0008.ckpt\n",
            "36/36 [==============================] - 64s 1s/step - loss: 0.4331 - sparse_categorical_accuracy: 0.8153 - val_loss: 0.4231 - val_sparse_categorical_accuracy: 0.8310\n",
            "Epoch 9/50\n",
            "35/36 [============================>.] - ETA: 0s - loss: 0.4147 - sparse_categorical_accuracy: 0.8229\n",
            "Epoch 00009: saving model to /content/drive/MyDrive/### Students ###/# Projects #/# BDMP #/GHD/model_GHD4/cp-0009.ckpt\n",
            "36/36 [==============================] - 64s 1s/step - loss: 0.4145 - sparse_categorical_accuracy: 0.8230 - val_loss: 0.4683 - val_sparse_categorical_accuracy: 0.7924\n",
            "Epoch 10/50\n",
            "35/36 [============================>.] - ETA: 0s - loss: 0.4355 - sparse_categorical_accuracy: 0.8099\n",
            "Epoch 00010: saving model to /content/drive/MyDrive/### Students ###/# Projects #/# BDMP #/GHD/model_GHD4/cp-0010.ckpt\n",
            "36/36 [==============================] - 64s 1s/step - loss: 0.4351 - sparse_categorical_accuracy: 0.8101 - val_loss: 0.4983 - val_sparse_categorical_accuracy: 0.8071\n",
            "Epoch 11/50\n",
            "35/36 [============================>.] - ETA: 0s - loss: 0.4321 - sparse_categorical_accuracy: 0.8207\n",
            "Epoch 00011: saving model to /content/drive/MyDrive/### Students ###/# Projects #/# BDMP #/GHD/model_GHD4/cp-0011.ckpt\n",
            "36/36 [==============================] - 64s 1s/step - loss: 0.4321 - sparse_categorical_accuracy: 0.8207 - val_loss: 0.4549 - val_sparse_categorical_accuracy: 0.8031\n",
            "Epoch 12/50\n",
            "35/36 [============================>.] - ETA: 0s - loss: 0.4215 - sparse_categorical_accuracy: 0.8214\n",
            "Epoch 00012: saving model to /content/drive/MyDrive/### Students ###/# Projects #/# BDMP #/GHD/model_GHD4/cp-0012.ckpt\n",
            "36/36 [==============================] - 64s 1s/step - loss: 0.4215 - sparse_categorical_accuracy: 0.8214 - val_loss: 0.3979 - val_sparse_categorical_accuracy: 0.8184\n",
            "Epoch 13/50\n",
            "35/36 [============================>.] - ETA: 0s - loss: 0.4090 - sparse_categorical_accuracy: 0.8200\n",
            "Epoch 00013: saving model to /content/drive/MyDrive/### Students ###/# Projects #/# BDMP #/GHD/model_GHD4/cp-0013.ckpt\n",
            "36/36 [==============================] - 64s 1s/step - loss: 0.4086 - sparse_categorical_accuracy: 0.8203 - val_loss: 0.4015 - val_sparse_categorical_accuracy: 0.8244\n",
            "Epoch 14/50\n",
            "35/36 [============================>.] - ETA: 0s - loss: 0.3897 - sparse_categorical_accuracy: 0.8300\n",
            "Epoch 00014: saving model to /content/drive/MyDrive/### Students ###/# Projects #/# BDMP #/GHD/model_GHD4/cp-0014.ckpt\n",
            "36/36 [==============================] - 64s 1s/step - loss: 0.3896 - sparse_categorical_accuracy: 0.8300 - val_loss: 0.3913 - val_sparse_categorical_accuracy: 0.8237\n",
            "Epoch 15/50\n",
            "35/36 [============================>.] - ETA: 0s - loss: 0.3840 - sparse_categorical_accuracy: 0.8324\n",
            "Epoch 00015: saving model to /content/drive/MyDrive/### Students ###/# Projects #/# BDMP #/GHD/model_GHD4/cp-0015.ckpt\n",
            "36/36 [==============================] - 64s 1s/step - loss: 0.3843 - sparse_categorical_accuracy: 0.8322 - val_loss: 0.3909 - val_sparse_categorical_accuracy: 0.8237\n",
            "Epoch 16/50\n",
            "35/36 [============================>.] - ETA: 0s - loss: 0.3955 - sparse_categorical_accuracy: 0.8289\n",
            "Epoch 00016: saving model to /content/drive/MyDrive/### Students ###/# Projects #/# BDMP #/GHD/model_GHD4/cp-0016.ckpt\n",
            "36/36 [==============================] - 64s 1s/step - loss: 0.3953 - sparse_categorical_accuracy: 0.8290 - val_loss: 0.3975 - val_sparse_categorical_accuracy: 0.8350\n",
            "Epoch 17/50\n",
            "35/36 [============================>.] - ETA: 0s - loss: 0.3728 - sparse_categorical_accuracy: 0.8363\n",
            "Epoch 00017: saving model to /content/drive/MyDrive/### Students ###/# Projects #/# BDMP #/GHD/model_GHD4/cp-0017.ckpt\n",
            "36/36 [==============================] - 64s 1s/step - loss: 0.3732 - sparse_categorical_accuracy: 0.8361 - val_loss: 0.4190 - val_sparse_categorical_accuracy: 0.8124\n",
            "Epoch 18/50\n",
            "35/36 [============================>.] - ETA: 0s - loss: 0.3802 - sparse_categorical_accuracy: 0.8380\n",
            "Epoch 00018: saving model to /content/drive/MyDrive/### Students ###/# Projects #/# BDMP #/GHD/model_GHD4/cp-0018.ckpt\n",
            "36/36 [==============================] - 64s 1s/step - loss: 0.3801 - sparse_categorical_accuracy: 0.8381 - val_loss: 0.3593 - val_sparse_categorical_accuracy: 0.8456\n",
            "Epoch 19/50\n",
            "35/36 [============================>.] - ETA: 0s - loss: 0.3597 - sparse_categorical_accuracy: 0.8493\n",
            "Epoch 00019: saving model to /content/drive/MyDrive/### Students ###/# Projects #/# BDMP #/GHD/model_GHD4/cp-0019.ckpt\n",
            "36/36 [==============================] - 64s 1s/step - loss: 0.3598 - sparse_categorical_accuracy: 0.8492 - val_loss: 0.3548 - val_sparse_categorical_accuracy: 0.8523\n",
            "Epoch 20/50\n",
            "35/36 [============================>.] - ETA: 0s - loss: 0.3772 - sparse_categorical_accuracy: 0.8376\n",
            "Epoch 00020: saving model to /content/drive/MyDrive/### Students ###/# Projects #/# BDMP #/GHD/model_GHD4/cp-0020.ckpt\n",
            "36/36 [==============================] - 64s 1s/step - loss: 0.3772 - sparse_categorical_accuracy: 0.8375 - val_loss: 0.4005 - val_sparse_categorical_accuracy: 0.8417\n",
            "Epoch 21/50\n",
            "35/36 [============================>.] - ETA: 0s - loss: 0.3635 - sparse_categorical_accuracy: 0.8444\n",
            "Epoch 00021: saving model to /content/drive/MyDrive/### Students ###/# Projects #/# BDMP #/GHD/model_GHD4/cp-0021.ckpt\n",
            "36/36 [==============================] - 64s 1s/step - loss: 0.3642 - sparse_categorical_accuracy: 0.8444 - val_loss: 0.3606 - val_sparse_categorical_accuracy: 0.8563\n",
            "Epoch 22/50\n",
            "35/36 [============================>.] - ETA: 0s - loss: 0.3670 - sparse_categorical_accuracy: 0.8396\n",
            "Epoch 00022: saving model to /content/drive/MyDrive/### Students ###/# Projects #/# BDMP #/GHD/model_GHD4/cp-0022.ckpt\n",
            "36/36 [==============================] - 64s 1s/step - loss: 0.3675 - sparse_categorical_accuracy: 0.8391 - val_loss: 0.4171 - val_sparse_categorical_accuracy: 0.8217\n",
            "Epoch 23/50\n",
            "35/36 [============================>.] - ETA: 0s - loss: 0.3566 - sparse_categorical_accuracy: 0.8466\n",
            "Epoch 00023: saving model to /content/drive/MyDrive/### Students ###/# Projects #/# BDMP #/GHD/model_GHD4/cp-0023.ckpt\n",
            "36/36 [==============================] - 64s 1s/step - loss: 0.3564 - sparse_categorical_accuracy: 0.8466 - val_loss: 0.3214 - val_sparse_categorical_accuracy: 0.8603\n",
            "Epoch 24/50\n",
            "35/36 [============================>.] - ETA: 0s - loss: 0.3306 - sparse_categorical_accuracy: 0.8623\n",
            "Epoch 00024: saving model to /content/drive/MyDrive/### Students ###/# Projects #/# BDMP #/GHD/model_GHD4/cp-0024.ckpt\n",
            "36/36 [==============================] - 64s 1s/step - loss: 0.3304 - sparse_categorical_accuracy: 0.8623 - val_loss: 0.3124 - val_sparse_categorical_accuracy: 0.8629\n",
            "Epoch 25/50\n",
            "35/36 [============================>.] - ETA: 0s - loss: 0.3311 - sparse_categorical_accuracy: 0.8593\n",
            "Epoch 00025: saving model to /content/drive/MyDrive/### Students ###/# Projects #/# BDMP #/GHD/model_GHD4/cp-0025.ckpt\n",
            "36/36 [==============================] - 64s 1s/step - loss: 0.3311 - sparse_categorical_accuracy: 0.8592 - val_loss: 0.3080 - val_sparse_categorical_accuracy: 0.8609\n",
            "Epoch 26/50\n",
            "35/36 [============================>.] - ETA: 0s - loss: 0.3197 - sparse_categorical_accuracy: 0.8647\n",
            "Epoch 00026: saving model to /content/drive/MyDrive/### Students ###/# Projects #/# BDMP #/GHD/model_GHD4/cp-0026.ckpt\n",
            "36/36 [==============================] - 78s 1s/step - loss: 0.3195 - sparse_categorical_accuracy: 0.8648 - val_loss: 0.3033 - val_sparse_categorical_accuracy: 0.8769\n",
            "Epoch 27/50\n",
            "35/36 [============================>.] - ETA: 0s - loss: 0.3075 - sparse_categorical_accuracy: 0.8684\n",
            "Epoch 00027: saving model to /content/drive/MyDrive/### Students ###/# Projects #/# BDMP #/GHD/model_GHD4/cp-0027.ckpt\n",
            "36/36 [==============================] - 64s 1s/step - loss: 0.3082 - sparse_categorical_accuracy: 0.8680 - val_loss: 0.3777 - val_sparse_categorical_accuracy: 0.8423\n",
            "Epoch 28/50\n",
            "35/36 [============================>.] - ETA: 0s - loss: 0.3819 - sparse_categorical_accuracy: 0.8356\n",
            "Epoch 00028: saving model to /content/drive/MyDrive/### Students ###/# Projects #/# BDMP #/GHD/model_GHD4/cp-0028.ckpt\n",
            "36/36 [==============================] - 64s 1s/step - loss: 0.3819 - sparse_categorical_accuracy: 0.8357 - val_loss: 0.3218 - val_sparse_categorical_accuracy: 0.8729\n",
            "Epoch 29/50\n",
            "35/36 [============================>.] - ETA: 0s - loss: 0.3044 - sparse_categorical_accuracy: 0.8711\n",
            "Epoch 00029: saving model to /content/drive/MyDrive/### Students ###/# Projects #/# BDMP #/GHD/model_GHD4/cp-0029.ckpt\n",
            "36/36 [==============================] - 64s 1s/step - loss: 0.3041 - sparse_categorical_accuracy: 0.8713 - val_loss: 0.3305 - val_sparse_categorical_accuracy: 0.8643\n",
            "Epoch 30/50\n",
            "35/36 [============================>.] - ETA: 0s - loss: 0.2861 - sparse_categorical_accuracy: 0.8806\n",
            "Epoch 00030: saving model to /content/drive/MyDrive/### Students ###/# Projects #/# BDMP #/GHD/model_GHD4/cp-0030.ckpt\n",
            "36/36 [==============================] - 64s 1s/step - loss: 0.2857 - sparse_categorical_accuracy: 0.8807 - val_loss: 0.2618 - val_sparse_categorical_accuracy: 0.8982\n",
            "Epoch 31/50\n",
            "35/36 [============================>.] - ETA: 0s - loss: 0.2820 - sparse_categorical_accuracy: 0.8836\n",
            "Epoch 00031: saving model to /content/drive/MyDrive/### Students ###/# Projects #/# BDMP #/GHD/model_GHD4/cp-0031.ckpt\n",
            "36/36 [==============================] - 64s 1s/step - loss: 0.2822 - sparse_categorical_accuracy: 0.8835 - val_loss: 0.2633 - val_sparse_categorical_accuracy: 0.8935\n",
            "Epoch 32/50\n",
            "35/36 [============================>.] - ETA: 0s - loss: 0.2751 - sparse_categorical_accuracy: 0.8877\n",
            "Epoch 00032: saving model to /content/drive/MyDrive/### Students ###/# Projects #/# BDMP #/GHD/model_GHD4/cp-0032.ckpt\n",
            "36/36 [==============================] - 64s 1s/step - loss: 0.2755 - sparse_categorical_accuracy: 0.8876 - val_loss: 0.2396 - val_sparse_categorical_accuracy: 0.9168\n",
            "Epoch 33/50\n",
            "35/36 [============================>.] - ETA: 0s - loss: 0.2745 - sparse_categorical_accuracy: 0.8897\n",
            "Epoch 00033: saving model to /content/drive/MyDrive/### Students ###/# Projects #/# BDMP #/GHD/model_GHD4/cp-0033.ckpt\n",
            "36/36 [==============================] - 64s 1s/step - loss: 0.2743 - sparse_categorical_accuracy: 0.8897 - val_loss: 0.2545 - val_sparse_categorical_accuracy: 0.9015\n",
            "Epoch 34/50\n",
            "35/36 [============================>.] - ETA: 0s - loss: 0.2516 - sparse_categorical_accuracy: 0.8936\n",
            "Epoch 00034: saving model to /content/drive/MyDrive/### Students ###/# Projects #/# BDMP #/GHD/model_GHD4/cp-0034.ckpt\n",
            "36/36 [==============================] - 64s 1s/step - loss: 0.2515 - sparse_categorical_accuracy: 0.8936 - val_loss: 0.2191 - val_sparse_categorical_accuracy: 0.9049\n",
            "Epoch 35/50\n",
            "35/36 [============================>.] - ETA: 0s - loss: 0.2377 - sparse_categorical_accuracy: 0.9046\n",
            "Epoch 00035: saving model to /content/drive/MyDrive/### Students ###/# Projects #/# BDMP #/GHD/model_GHD4/cp-0035.ckpt\n",
            "36/36 [==============================] - 64s 1s/step - loss: 0.2375 - sparse_categorical_accuracy: 0.9047 - val_loss: 0.2528 - val_sparse_categorical_accuracy: 0.8882\n",
            "Epoch 36/50\n",
            "35/36 [============================>.] - ETA: 0s - loss: 0.2221 - sparse_categorical_accuracy: 0.9123\n",
            "Epoch 00036: saving model to /content/drive/MyDrive/### Students ###/# Projects #/# BDMP #/GHD/model_GHD4/cp-0036.ckpt\n",
            "36/36 [==============================] - 64s 1s/step - loss: 0.2223 - sparse_categorical_accuracy: 0.9121 - val_loss: 0.2281 - val_sparse_categorical_accuracy: 0.9082\n",
            "Epoch 37/50\n",
            "35/36 [============================>.] - ETA: 0s - loss: 0.2139 - sparse_categorical_accuracy: 0.9143\n",
            "Epoch 00037: saving model to /content/drive/MyDrive/### Students ###/# Projects #/# BDMP #/GHD/model_GHD4/cp-0037.ckpt\n",
            "36/36 [==============================] - 64s 1s/step - loss: 0.2139 - sparse_categorical_accuracy: 0.9143 - val_loss: 0.1978 - val_sparse_categorical_accuracy: 0.9295\n",
            "Epoch 38/50\n",
            "35/36 [============================>.] - ETA: 0s - loss: 0.2040 - sparse_categorical_accuracy: 0.9167\n",
            "Epoch 00038: saving model to /content/drive/MyDrive/### Students ###/# Projects #/# BDMP #/GHD/model_GHD4/cp-0038.ckpt\n",
            "36/36 [==============================] - 64s 1s/step - loss: 0.2039 - sparse_categorical_accuracy: 0.9167 - val_loss: 0.1692 - val_sparse_categorical_accuracy: 0.9368\n",
            "Epoch 39/50\n",
            "35/36 [============================>.] - ETA: 0s - loss: 0.1946 - sparse_categorical_accuracy: 0.9239\n",
            "Epoch 00039: saving model to /content/drive/MyDrive/### Students ###/# Projects #/# BDMP #/GHD/model_GHD4/cp-0039.ckpt\n",
            "36/36 [==============================] - 64s 1s/step - loss: 0.1945 - sparse_categorical_accuracy: 0.9238 - val_loss: 0.2137 - val_sparse_categorical_accuracy: 0.9122\n",
            "Epoch 40/50\n",
            "35/36 [============================>.] - ETA: 0s - loss: 0.1870 - sparse_categorical_accuracy: 0.9276\n",
            "Epoch 00040: saving model to /content/drive/MyDrive/### Students ###/# Projects #/# BDMP #/GHD/model_GHD4/cp-0040.ckpt\n",
            "36/36 [==============================] - 64s 1s/step - loss: 0.1876 - sparse_categorical_accuracy: 0.9275 - val_loss: 0.1904 - val_sparse_categorical_accuracy: 0.9248\n",
            "Epoch 41/50\n",
            "35/36 [============================>.] - ETA: 0s - loss: 0.2039 - sparse_categorical_accuracy: 0.9184\n",
            "Epoch 00041: saving model to /content/drive/MyDrive/### Students ###/# Projects #/# BDMP #/GHD/model_GHD4/cp-0041.ckpt\n",
            "36/36 [==============================] - 64s 1s/step - loss: 0.2039 - sparse_categorical_accuracy: 0.9184 - val_loss: 0.1638 - val_sparse_categorical_accuracy: 0.9281\n",
            "Epoch 42/50\n",
            "35/36 [============================>.] - ETA: 0s - loss: 0.1986 - sparse_categorical_accuracy: 0.9196\n",
            "Epoch 00042: saving model to /content/drive/MyDrive/### Students ###/# Projects #/# BDMP #/GHD/model_GHD4/cp-0042.ckpt\n",
            "36/36 [==============================] - 64s 1s/step - loss: 0.1983 - sparse_categorical_accuracy: 0.9197 - val_loss: 0.1662 - val_sparse_categorical_accuracy: 0.9401\n",
            "Epoch 43/50\n",
            "35/36 [============================>.] - ETA: 0s - loss: 0.1520 - sparse_categorical_accuracy: 0.9407\n",
            "Epoch 00043: saving model to /content/drive/MyDrive/### Students ###/# Projects #/# BDMP #/GHD/model_GHD4/cp-0043.ckpt\n",
            "36/36 [==============================] - 64s 1s/step - loss: 0.1523 - sparse_categorical_accuracy: 0.9407 - val_loss: 0.1709 - val_sparse_categorical_accuracy: 0.9222\n",
            "Epoch 44/50\n",
            "35/36 [============================>.] - ETA: 0s - loss: 0.1786 - sparse_categorical_accuracy: 0.9311\n",
            "Epoch 00044: saving model to /content/drive/MyDrive/### Students ###/# Projects #/# BDMP #/GHD/model_GHD4/cp-0044.ckpt\n",
            "36/36 [==============================] - 64s 1s/step - loss: 0.1785 - sparse_categorical_accuracy: 0.9312 - val_loss: 0.1320 - val_sparse_categorical_accuracy: 0.9534\n",
            "Epoch 45/50\n",
            "35/36 [============================>.] - ETA: 0s - loss: 0.1329 - sparse_categorical_accuracy: 0.9510\n",
            "Epoch 00045: saving model to /content/drive/MyDrive/### Students ###/# Projects #/# BDMP #/GHD/model_GHD4/cp-0045.ckpt\n",
            "36/36 [==============================] - 64s 1s/step - loss: 0.1329 - sparse_categorical_accuracy: 0.9511 - val_loss: 0.1021 - val_sparse_categorical_accuracy: 0.9647\n",
            "Epoch 46/50\n",
            "35/36 [============================>.] - ETA: 0s - loss: 0.1204 - sparse_categorical_accuracy: 0.9521\n",
            "Epoch 00046: saving model to /content/drive/MyDrive/### Students ###/# Projects #/# BDMP #/GHD/model_GHD4/cp-0046.ckpt\n",
            "36/36 [==============================] - 64s 1s/step - loss: 0.1209 - sparse_categorical_accuracy: 0.9521 - val_loss: 0.1468 - val_sparse_categorical_accuracy: 0.9415\n",
            "Epoch 47/50\n",
            "35/36 [============================>.] - ETA: 0s - loss: 0.1586 - sparse_categorical_accuracy: 0.9394\n",
            "Epoch 00047: saving model to /content/drive/MyDrive/### Students ###/# Projects #/# BDMP #/GHD/model_GHD4/cp-0047.ckpt\n",
            "36/36 [==============================] - 65s 1s/step - loss: 0.1589 - sparse_categorical_accuracy: 0.9392 - val_loss: 0.1431 - val_sparse_categorical_accuracy: 0.9481\n",
            "Epoch 48/50\n",
            "35/36 [============================>.] - ETA: 0s - loss: 0.1155 - sparse_categorical_accuracy: 0.9550\n",
            "Epoch 00048: saving model to /content/drive/MyDrive/### Students ###/# Projects #/# BDMP #/GHD/model_GHD4/cp-0048.ckpt\n",
            "36/36 [==============================] - 65s 1s/step - loss: 0.1154 - sparse_categorical_accuracy: 0.9551 - val_loss: 0.1017 - val_sparse_categorical_accuracy: 0.9607\n",
            "Epoch 49/50\n",
            "35/36 [============================>.] - ETA: 0s - loss: 0.0967 - sparse_categorical_accuracy: 0.9639\n",
            "Epoch 00049: saving model to /content/drive/MyDrive/### Students ###/# Projects #/# BDMP #/GHD/model_GHD4/cp-0049.ckpt\n",
            "36/36 [==============================] - 64s 1s/step - loss: 0.0966 - sparse_categorical_accuracy: 0.9639 - val_loss: 0.0790 - val_sparse_categorical_accuracy: 0.9674\n",
            "Epoch 50/50\n",
            "35/36 [============================>.] - ETA: 0s - loss: 0.0918 - sparse_categorical_accuracy: 0.9644\n",
            "Epoch 00050: saving model to /content/drive/MyDrive/### Students ###/# Projects #/# BDMP #/GHD/model_GHD4/cp-0050.ckpt\n",
            "36/36 [==============================] - 65s 1s/step - loss: 0.0917 - sparse_categorical_accuracy: 0.9645 - val_loss: 0.0853 - val_sparse_categorical_accuracy: 0.9667\n"
          ]
        }
      ]
    },
    {
      "cell_type": "code",
      "metadata": {
        "id": "ewY9ZJLrJplt"
      },
      "source": [
        "#history.history"
      ],
      "execution_count": null,
      "outputs": []
    },
    {
      "cell_type": "markdown",
      "source": [
        "### **Displaying tensorboard**"
      ],
      "metadata": {
        "id": "EzwO9jKGitdi"
      }
    },
    {
      "cell_type": "code",
      "metadata": {
        "id": "MOEpIm7iuGcP"
      },
      "source": [
        "%tensorboard --logdir logs"
      ],
      "execution_count": null,
      "outputs": []
    },
    {
      "cell_type": "markdown",
      "source": [
        "### **Loading weights at a specific epoch (this can prove to be useful if we overfit and we want to go back to a previous epoch)**"
      ],
      "metadata": {
        "id": "WwF9oJcWjDUU"
      }
    },
    {
      "cell_type": "code",
      "metadata": {
        "id": "CjBCtA1OzPkg"
      },
      "source": [
        "#model.load_weights(\"/content/drive/MyDrive/### Students ###/# Projects #/# BDMP #/GHD/model_GHD1bis/cp-0025.ckpt\")"
      ],
      "execution_count": null,
      "outputs": []
    },
    {
      "cell_type": "markdown",
      "source": [
        "### **Loading the best model from the path it was saved**"
      ],
      "metadata": {
        "id": "XxHMl54PdQh_"
      }
    },
    {
      "cell_type": "code",
      "metadata": {
        "id": "ksQPzYADyNNO"
      },
      "source": [
        "model = tf.keras.models.load_model(path_savemodel)"
      ],
      "execution_count": null,
      "outputs": []
    },
    {
      "cell_type": "markdown",
      "source": [
        "### **Evaluating the model's performance on the test set**"
      ],
      "metadata": {
        "id": "2K-ribtcd6EP"
      }
    },
    {
      "cell_type": "code",
      "metadata": {
        "id": "KH6cIGoN8Al4",
        "colab": {
          "base_uri": "https://localhost:8080/"
        },
        "outputId": "de72571f-d0c5-464e-a578-f9c0ebb1a620"
      },
      "source": [
        "model.evaluate(test)"
      ],
      "execution_count": null,
      "outputs": [
        {
          "output_type": "stream",
          "name": "stdout",
          "text": [
            "8/8 [==============================] - 31s 340ms/step - loss: 0.0952 - sparse_categorical_accuracy: 0.9654\n"
          ]
        },
        {
          "output_type": "execute_result",
          "data": {
            "text/plain": [
              "[0.09524919092655182, 0.9653794765472412]"
            ]
          },
          "metadata": {},
          "execution_count": 63
        }
      ]
    },
    {
      "cell_type": "code",
      "metadata": {
        "id": "DFuls-UbW6wA",
        "colab": {
          "base_uri": "https://localhost:8080/"
        },
        "outputId": "232ff524-1bc0-41f5-c76c-2311edc7b710"
      },
      "source": [
        "#model.evaluate(test)"
      ],
      "execution_count": null,
      "outputs": [
        {
          "output_type": "stream",
          "name": "stdout",
          "text": [
            "8/8 [==============================] - 29s 332ms/step - loss: 0.0903 - sparse_categorical_accuracy: 0.9647\n"
          ]
        },
        {
          "output_type": "execute_result",
          "data": {
            "text/plain": [
              "[0.090309277176857, 0.9647136926651001]"
            ]
          },
          "metadata": {},
          "execution_count": 41
        }
      ]
    },
    {
      "cell_type": "code",
      "metadata": {
        "id": "idFnS7BJQj2H"
      },
      "source": [
        "#model.save(path_savemodel)"
      ],
      "execution_count": null,
      "outputs": []
    },
    {
      "cell_type": "markdown",
      "source": [
        "### **Conducting tests to see if the model is responding well to the  different inputs**"
      ],
      "metadata": {
        "id": "3IghV16refA5"
      }
    },
    {
      "cell_type": "code",
      "metadata": {
        "id": "XkOjhFB8wwPi"
      },
      "source": [
        "# To plot the confusion matrix, the real target has to be compared to the prediction for each row \n",
        "# To do so, the test inputs are stored in an array and the target is stored in another one. Thus, way we make sure that the two arrays are in the same order\n",
        "test_target = []\n",
        "test_inputs = []\n",
        "\n",
        "for i, j in test_dataset.as_numpy_iterator():\n",
        "  test_inputs.append(i)\n",
        "  test_target.append(j)"
      ],
      "execution_count": null,
      "outputs": []
    },
    {
      "cell_type": "markdown",
      "source": [
        "### **The test input is a dictionnary where are stored the \"input_image\" and the \"input_tabular\"**"
      ],
      "metadata": {
        "id": "8vPapzLhkPlo"
      }
    },
    {
      "cell_type": "code",
      "metadata": {
        "colab": {
          "base_uri": "https://localhost:8080/"
        },
        "id": "_RTg6p2t0Rd5",
        "outputId": "fbcb97a7-ea47-4b68-e24e-6300f41c239d"
      },
      "source": [
        "(test_inputs[0]['input_image']).shape"
      ],
      "execution_count": null,
      "outputs": [
        {
          "output_type": "execute_result",
          "data": {
            "text/plain": [
              "(256, 256, 3)"
            ]
          },
          "metadata": {},
          "execution_count": 38
        }
      ]
    },
    {
      "cell_type": "code",
      "metadata": {
        "colab": {
          "base_uri": "https://localhost:8080/"
        },
        "id": "Un_f_FPV0nUx",
        "outputId": "d62040cc-680d-452e-a91f-06807e10ca76"
      },
      "source": [
        "test_inputs[0]['input_image']"
      ],
      "execution_count": null,
      "outputs": [
        {
          "output_type": "execute_result",
          "data": {
            "text/plain": [
              "array([[[227.28973, 154.5827 , 177.61719],\n",
              "        [226.     , 157.84387, 177.54688],\n",
              "        [228.61273, 158.23328, 180.30243],\n",
              "        ...,\n",
              "        [231.69928, 160.98047, 183.86499],\n",
              "        [232.9671 , 162.4768 , 186.08606],\n",
              "        [229.94006, 158.99408, 183.23358]],\n",
              "\n",
              "       [[227.4961 , 155.83405, 178.90045],\n",
              "        [226.14166, 155.9123 , 179.64166],\n",
              "        [225.9184 , 159.46545, 181.93854],\n",
              "        ...,\n",
              "        [233.34723, 162.53021, 187.95886],\n",
              "        [231.87463, 158.88104, 187.60974],\n",
              "        [228.12689, 155.5567 , 184.96283]],\n",
              "\n",
              "       [[227.43689, 154.67352, 177.9397 ],\n",
              "        [228.7685 , 156.82361, 178.77344],\n",
              "        [226.35852, 157.28314, 179.99408],\n",
              "        ...,\n",
              "        [226.39221, 158.99408, 182.66986],\n",
              "        [229.18134, 158.86987, 184.97699],\n",
              "        [229.21094, 154.90344, 184.1518 ]],\n",
              "\n",
              "       ...,\n",
              "\n",
              "       [[217.98663, 152.60101, 156.52686],\n",
              "        [216.88055, 156.67291, 158.7315 ],\n",
              "        [215.99176, 156.3977 , 156.1383 ],\n",
              "        ...,\n",
              "        [215.75665, 159.39136, 164.07263],\n",
              "        [216.16138, 157.0296 , 162.63898],\n",
              "        [215.46985, 155.8482 , 161.13281]],\n",
              "\n",
              "       [[215.47656, 152.26978, 159.3435 ],\n",
              "        [216.86328, 152.27771, 159.56073],\n",
              "        [219.1322 , 154.37952, 158.56537],\n",
              "        ...,\n",
              "        [219.84149, 157.03064, 164.29791],\n",
              "        [217.86328, 157.00214, 164.1726 ],\n",
              "        [215.8086 , 156.76373, 160.4903 ]],\n",
              "\n",
              "       [[218.00323, 152.63672, 155.87299],\n",
              "        [219.02155, 154.0097 , 158.80469],\n",
              "        [220.8147 , 154.2132 , 162.10657],\n",
              "        ...,\n",
              "        [218.03851, 156.24274, 163.33038],\n",
              "        [217.66205, 155.38861, 162.25024],\n",
              "        [215.76105, 154.05078, 160.33728]]], dtype=float32)"
            ]
          },
          "metadata": {},
          "execution_count": 39
        }
      ]
    },
    {
      "cell_type": "markdown",
      "source": [
        "### **Testing on the first row to adjust shapes for the predictions**"
      ],
      "metadata": {
        "id": "IeQNQ5Rikjo8"
      }
    },
    {
      "cell_type": "code",
      "metadata": {
        "id": "xLhMd0HDzkF-"
      },
      "source": [
        "# 1,1 has been added for each shape:\n",
        "#        - The first 1 was added to make sure that the tensor slice will not slice the image itself (The from tensor slices method by construction slices over the first dimansion)\n",
        "#        - The second 1 was added because we will take each time 1 element to make a prediction on it\n",
        "test_tensor_input_0 = {\"input_image\": tf.constant(test_inputs[0]['input_image'], shape=(1,1,256,256,3)), \"input_tabular\": tf.constant(test_inputs[0]['input_tabular'], shape = (1,1,1,36))}"
      ],
      "execution_count": null,
      "outputs": []
    },
    {
      "cell_type": "code",
      "metadata": {
        "id": "BK6nFxzU9FHE"
      },
      "source": [
        "a = tf.data.Dataset.from_tensor_slices(test_tensor_input_0)"
      ],
      "execution_count": null,
      "outputs": []
    },
    {
      "cell_type": "markdown",
      "source": [
        "### **Prediction for the first row of the test set: an array with 3 values**"
      ],
      "metadata": {
        "id": "EaEbPP6FlAkk"
      }
    },
    {
      "cell_type": "code",
      "metadata": {
        "colab": {
          "base_uri": "https://localhost:8080/"
        },
        "id": "Nkfpz6am2YBw",
        "outputId": "8ade20fe-a9c3-4e69-840e-bdfef53ad4e9"
      },
      "source": [
        "model.predict(a)"
      ],
      "execution_count": null,
      "outputs": [
        {
          "output_type": "execute_result",
          "data": {
            "text/plain": [
              "array([[1.599233e-08, 1.000000e+00, 9.409935e-11]], dtype=float32)"
            ]
          },
          "metadata": {},
          "execution_count": 42
        }
      ]
    },
    {
      "cell_type": "markdown",
      "source": [
        "### **Extracting prediction that corresponds to the highest value of the prediction array**"
      ],
      "metadata": {
        "id": "oUnxkw4pe4_k"
      }
    },
    {
      "cell_type": "code",
      "metadata": {
        "id": "X8UKLrpfzY97"
      },
      "source": [
        "tf.argmax(prediction_a, axis=1)"
      ],
      "execution_count": null,
      "outputs": []
    },
    {
      "cell_type": "markdown",
      "source": [
        "### **Generalizing for all rows: construct an array where will be stored the predictions row by row for the test set**"
      ],
      "metadata": {
        "id": "__mcsG0wlRZd"
      }
    },
    {
      "cell_type": "code",
      "source": [
        "test_predictions=[]\n",
        "\n",
        "for i in range(test_size):\n",
        "  test_tensor_input = {\"input_image\": tf.constant(test_inputs[i]['input_image'], shape=(1,1,256,256,3)), \"input_tabular\": tf.constant(test_inputs[i]['input_tabular'], shape = (1,1,1,36))}\n",
        "  test_prediction = model.predict(tf.data.Dataset.from_tensor_slices(test_tensor_input))\n",
        "  test_predictions.append(tf.argmax(test_prediction, axis=1))"
      ],
      "metadata": {
        "id": "7s4DhGZ4lRw_"
      },
      "execution_count": null,
      "outputs": []
    },
    {
      "cell_type": "markdown",
      "source": [
        " ### **Retrieving the confusion matrix with y_test true as tensor**"
      ],
      "metadata": {
        "id": "GI4asASNfS9L"
      }
    },
    {
      "cell_type": "code",
      "metadata": {
        "id": "h7TYNIAPwvdT"
      },
      "source": [
        "# The test target and the test predictions follow the same order as the predictions were made row by row from the test inputs\n",
        "cm = tf.math.confusion_matrix(test_target,test_predictions)"
      ],
      "execution_count": null,
      "outputs": []
    },
    {
      "cell_type": "code",
      "metadata": {
        "colab": {
          "base_uri": "https://localhost:8080/"
        },
        "id": "VtQi5C2ExIo8",
        "outputId": "47a25623-f057-4a3a-af19-5e0cf7b4d9e8"
      },
      "source": [
        "cm"
      ],
      "execution_count": null,
      "outputs": [
        {
          "output_type": "execute_result",
          "data": {
            "text/plain": [
              "<tf.Tensor: shape=(3, 3), dtype=int32, numpy=\n",
              "array([[ 248,   21,    0],\n",
              "       [  13, 1147,    4],\n",
              "       [   4,    3,   62]], dtype=int32)>"
            ]
          },
          "metadata": {},
          "execution_count": 46
        }
      ]
    },
    {
      "cell_type": "markdown",
      "source": [
        " ### **Retrieving the confusion matrix with y_test true as a numpy array**"
      ],
      "metadata": {
        "id": "szjRsgyufiIt"
      }
    },
    {
      "cell_type": "code",
      "metadata": {
        "colab": {
          "base_uri": "https://localhost:8080/"
        },
        "id": "idW6XyJ2xImR",
        "outputId": "1551c492-e269-4945-8e31-b5a3a2ecd94a"
      },
      "source": [
        "# get CM with y_test_true as nuppy array\n",
        "\n",
        "cma = np.array(cm)\n",
        "cma"
      ],
      "execution_count": null,
      "outputs": [
        {
          "output_type": "execute_result",
          "data": {
            "text/plain": [
              "array([[ 248,   21,    0],\n",
              "       [  13, 1147,    4],\n",
              "       [   4,    3,   62]], dtype=int32)"
            ]
          },
          "metadata": {},
          "execution_count": 47
        }
      ]
    },
    {
      "cell_type": "markdown",
      "source": [
        " ### **Checking the model's accuracy mean as compared to the above model evaluation**"
      ],
      "metadata": {
        "id": "aKM9Ta3Hfso7"
      }
    },
    {
      "cell_type": "code",
      "metadata": {
        "colab": {
          "base_uri": "https://localhost:8080/"
        },
        "id": "hjSD_0SixIjx",
        "outputId": "9e75f24d-0d86-4fc9-d36c-18bb6d36002f"
      },
      "source": [
        "accuracy_mean = (cma[0][0]+cma[1][1]+cma[2][2])/cma.sum()\n",
        "\n",
        "accuracy_1 = cma[0][0]/cma[0].sum()\n",
        "accuracy_2 = cma[1][1]/cma[1].sum()\n",
        "accuracy_3 = cma[2][2]/cma[2].sum()\n",
        "\n",
        "print('accuracy on accuracy_mean is : {} '.format(accuracy_mean))\n",
        "\n",
        "print('accuracy on accuracy_1 is : {} '.format(accuracy_1))\n",
        "print('accuracy on accuracy_2 is : {} '.format(accuracy_2))\n",
        "print('accuracy on accuracy_3 is : {} '.format(accuracy_3))"
      ],
      "execution_count": null,
      "outputs": [
        {
          "output_type": "stream",
          "name": "stdout",
          "text": [
            "accuracy on accuracy_mean is : 0.9700399467376831 \n",
            "accuracy on accuracy_1 is : 0.9219330855018587 \n",
            "accuracy on accuracy_2 is : 0.9853951890034365 \n",
            "accuracy on accuracy_3 is : 0.8985507246376812 \n"
          ]
        }
      ]
    },
    {
      "cell_type": "markdown",
      "source": [
        " ### **Sanity checks before plotting the final confusion matrix**"
      ],
      "metadata": {
        "id": "ZKKqnr12gCT9"
      }
    },
    {
      "cell_type": "code",
      "metadata": {
        "id": "bOjIYMl4XMmd"
      },
      "source": [
        "import matplotlib.pyplot as plt\n",
        "import seaborn as sns"
      ],
      "execution_count": null,
      "outputs": []
    },
    {
      "cell_type": "code",
      "metadata": {
        "id": "u9gNIdw2XMhY"
      },
      "source": [
        "def plot_confusion_matrix(cm, classes,\n",
        "                          normalize=False,\n",
        "                          title='Confusion matrix',\n",
        "                          cmap=plt.cm.Blues):\n",
        "    \"\"\"\n",
        "    This function prints and plots the confusion matrix.\n",
        "    Normalization can be applied by setting `normalize=True`.\n",
        "    \"\"\"\n",
        "    plt.imshow(cm, interpolation='nearest', cmap=cmap)\n",
        "    plt.title(title)\n",
        "    plt.colorbar()\n",
        "    tick_marks = np.arange(len(classes))\n",
        "    plt.xticks(tick_marks, classes, rotation=45)\n",
        "    plt.yticks(tick_marks, classes)\n",
        "\n",
        "    if normalize:\n",
        "        cm = cm.astype('float') / cm.sum(axis=1)[:, np.newaxis]\n",
        "        print(\"Normalized confusion matrix\")\n",
        "    else:\n",
        "        print('Confusion matrix, without normalization')\n",
        "\n",
        "    print(cm)\n",
        "\n",
        "    thresh = cm.max() / 2.\n",
        "    for i, j in itertools.product(range(cm.shape[0]), range(cm.shape[1])):\n",
        "        plt.text(j, i, cm[i, j],\n",
        "                 horizontalalignment=\"center\",\n",
        "                 color=\"white\" if cm[i, j] > thresh else \"black\")\n",
        "\n",
        "    plt.tight_layout()\n",
        "    plt.ylabel('True label')\n",
        "    plt.xlabel('Predicted label')"
      ],
      "execution_count": null,
      "outputs": []
    },
    {
      "cell_type": "markdown",
      "source": [
        "### **Checking labels names**"
      ],
      "metadata": {
        "id": "DNNBs-nRmi-x"
      }
    },
    {
      "cell_type": "code",
      "metadata": {
        "id": "-5IlAKSpXMX5",
        "colab": {
          "base_uri": "https://localhost:8080/"
        },
        "outputId": "4d226344-c527-4665-afc1-50f7c5b3951b"
      },
      "source": [
        "col_Y"
      ],
      "execution_count": null,
      "outputs": [
        {
          "output_type": "execute_result",
          "data": {
            "text/plain": [
              "['Detection of a potential severity, please consult a doctor',\n",
              " \"Don't worry, it's benign\",\n",
              " 'To monitor']"
            ]
          },
          "metadata": {},
          "execution_count": 51
        }
      ]
    },
    {
      "cell_type": "code",
      "metadata": {
        "id": "BZi_mKQrXXV6",
        "colab": {
          "base_uri": "https://localhost:8080/"
        },
        "outputId": "4f4f9963-1558-4de7-b77e-f59a0f14e29a"
      },
      "source": [
        "short_col_Y = col_Y\n",
        "short_col_Y[0]='dermato_check'\n",
        "short_col_Y[1]='begnin'\n",
        "short_col_Y[2]='self_monitor'\n",
        "short_col_Y"
      ],
      "execution_count": null,
      "outputs": [
        {
          "output_type": "execute_result",
          "data": {
            "text/plain": [
              "['dermato_check', 'begnin', 'self_monitor']"
            ]
          },
          "metadata": {},
          "execution_count": 52
        }
      ]
    },
    {
      "cell_type": "code",
      "metadata": {
        "id": "w55qUSFCXXSH",
        "colab": {
          "base_uri": "https://localhost:8080/",
          "height": 386
        },
        "outputId": "ecd85f7a-9ecf-4cc1-fd24-8ac7ebcedb07"
      },
      "source": [
        "plot_confusion_matrix(cm=cma,classes=short_col_Y, title='BDMP confusion matrix')"
      ],
      "execution_count": null,
      "outputs": [
        {
          "output_type": "stream",
          "name": "stdout",
          "text": [
            "Confusion matrix, without normalization\n",
            "[[ 248   21    0]\n",
            " [  13 1147    4]\n",
            " [   4    3   62]]\n"
          ]
        },
        {
          "output_type": "display_data",
          "data": {
            "image/png": "[encoded data removed]",
            "text/plain": [
              "<Figure size 432x288 with 2 Axes>"
            ]
          },
          "metadata": {
            "needs_background": "light"
          }
        }
      ]
    },
    {
      "cell_type": "code",
      "metadata": {
        "id": "jXrAwIo0XXC4",
        "colab": {
          "base_uri": "https://localhost:8080/",
          "height": 389
        },
        "outputId": "b622698b-536d-4e21-851a-1e91d48f1e78"
      },
      "source": [
        "fig, ax = plt.subplots(figsize=(6,6))\n",
        "sns.heatmap(cma, annot=True, xticklabels=short_col_Y, yticklabels=short_col_Y,fmt='d')\n",
        "plt.ylabel('Actual')\n",
        "plt.xlabel('Predicted')\n",
        "plt.show(block=False)"
      ],
      "execution_count": null,
      "outputs": [
        {
          "output_type": "display_data",
          "data": {
            "image/png": "[encoded data removed]",
            "text/plain": [
              "<Figure size 432x432 with 2 Axes>"
            ]
          },
          "metadata": {
            "needs_background": "light"
          }
        }
      ]
    },
    {
      "cell_type": "code",
      "metadata": {
        "colab": {
          "base_uri": "https://localhost:8080/"
        },
        "id": "Q9s7QV1SW0np",
        "outputId": "3a6eccca-89e2-4b01-cd14-dc5ca08bae81"
      },
      "source": [
        "248/(248+21)"
      ],
      "execution_count": null,
      "outputs": [
        {
          "output_type": "execute_result",
          "data": {
            "text/plain": [
              "0.9219330855018587"
            ]
          },
          "metadata": {},
          "execution_count": 4
        }
      ]
    },
    {
      "cell_type": "code",
      "metadata": {
        "id": "mJhZB08fXdPQ",
        "colab": {
          "base_uri": "https://localhost:8080/"
        },
        "outputId": "12087be8-c2a9-426c-da96-992c986a74cb"
      },
      "source": [
        "cma.sum(axis=1)[:, np.newaxis]"
      ],
      "execution_count": null,
      "outputs": [
        {
          "output_type": "execute_result",
          "data": {
            "text/plain": [
              "array([[ 269],\n",
              "       [1164],\n",
              "       [  69]])"
            ]
          },
          "metadata": {},
          "execution_count": 55
        }
      ]
    },
    {
      "cell_type": "code",
      "metadata": {
        "id": "rBsuMo5AXdM9"
      },
      "source": [
        "cmn = cma.astype('float') / cma.sum(axis=1)[:, np.newaxis]"
      ],
      "execution_count": null,
      "outputs": []
    },
    {
      "cell_type": "code",
      "metadata": {
        "id": "w1N9644qXdKq",
        "colab": {
          "base_uri": "https://localhost:8080/",
          "height": 606
        },
        "outputId": "c8240b5b-b128-4992-eaae-c547414fbbc1"
      },
      "source": [
        "fig, ax = plt.subplots(figsize=(10,10))\n",
        "sns.heatmap(cmn, annot=True, xticklabels=short_col_Y, yticklabels=short_col_Y)\n",
        "plt.ylabel('Actual')\n",
        "plt.xlabel('Predicted')\n",
        "plt.show(block=False)"
      ],
      "execution_count": null,
      "outputs": [
        {
          "output_type": "display_data",
          "data": {
            "image/png": "[encoded data removed]",
            "text/plain": [
              "<Figure size 720x720 with 2 Axes>"
            ]
          },
          "metadata": {
            "needs_background": "light"
          }
        }
      ]
    },
    {
      "cell_type": "code",
      "metadata": {
        "id": "33h-Nucg0XFc",
        "colab": {
          "base_uri": "https://localhost:8080/",
          "height": 606
        },
        "outputId": "50abfdec-933e-48ff-d3d0-389685006fdf"
      },
      "source": [
        "fig, ax = plt.subplots(figsize=(10,10))\n",
        "sns.heatmap(cma/np.sum(cma), annot=True, xticklabels=short_col_Y, yticklabels=short_col_Y,fmt='.2%')\n",
        "plt.ylabel('Actual')\n",
        "plt.xlabel('Predicted')\n",
        "plt.show(block=False)"
      ],
      "execution_count": null,
      "outputs": [
        {
          "output_type": "display_data",
          "data": {
            "image/png": "[encoded data removed]",
            "text/plain": [
              "<Figure size 720x720 with 2 Axes>"
            ]
          },
          "metadata": {
            "needs_background": "light"
          }
        }
      ]
    },
    {
      "cell_type": "markdown",
      "source": [
        " ### **Printing the classification report to have an overview of the model's global performance**"
      ],
      "metadata": {
        "id": "C9ogHz-Cgik8"
      }
    },
    {
      "cell_type": "code",
      "metadata": {
        "id": "diW78ER7XdHz"
      },
      "source": [
        "from sklearn.metrics import classification_report"
      ],
      "execution_count": null,
      "outputs": []
    },
    {
      "cell_type": "code",
      "metadata": {
        "id": "5xoQWAJaXu_h",
        "colab": {
          "base_uri": "https://localhost:8080/"
        },
        "outputId": "f48468a7-a747-4afe-a84d-200a9176a4f5"
      },
      "source": [
        "print(classification_report(test_target,test_predictions, target_names=short_col_Y))"
      ],
      "execution_count": null,
      "outputs": [
        {
          "output_type": "stream",
          "name": "stdout",
          "text": [
            "               precision    recall  f1-score   support\n",
            "\n",
            "dermato_check       0.94      0.92      0.93       269\n",
            "       begnin       0.98      0.99      0.98      1164\n",
            " self_monitor       0.94      0.90      0.92        69\n",
            "\n",
            "     accuracy                           0.97      1502\n",
            "    macro avg       0.95      0.94      0.94      1502\n",
            " weighted avg       0.97      0.97      0.97      1502\n",
            "\n"
          ]
        }
      ]
    },
    {
      "cell_type": "markdown",
      "source": [
        "### **Precision = TP / (TP+FP)**\n",
        "### **Recall = TP / (TP+FN)**\n",
        "### **Accuracy = # of correct predictions / total # of predictions**\n",
        "### **F1 score = 2 * (Precision * Recall) / (Precision + Recall)**"
      ],
      "metadata": {
        "id": "Npy9NG5YhRuJ"
      }
    },
    {
      "cell_type": "code",
      "metadata": {
        "id": "-0JCGG43120H"
      },
      "source": [
        "accuracy on accuracy_mean is : 0.9700399467376831 \n",
        "accuracy on accuracy_1 is : 0.9219330855018587 \n",
        "accuracy on accuracy_2 is : 0.9853951890034365 \n",
        "accuracy on accuracy_3 is : 0.8985507246376812 "
      ],
      "execution_count": null,
      "outputs": []
    },
    {
      "cell_type": "code",
      "metadata": {
        "colab": {
          "base_uri": "https://localhost:8080/"
        },
        "id": "ewU_nDpjTz0l",
        "outputId": "0bd25567-c352-4f53-9b99-7d23c20e3fc1"
      },
      "source": [
        "(0.92+0.99+0.9)/3"
      ],
      "execution_count": null,
      "outputs": [
        {
          "output_type": "execute_result",
          "data": {
            "text/plain": [
              "0.9366666666666666"
            ]
          },
          "metadata": {},
          "execution_count": 1
        }
      ]
    },
    {
      "cell_type": "code",
      "metadata": {
        "colab": {
          "base_uri": "https://localhost:8080/"
        },
        "id": "tGdqNd_wVVMW",
        "outputId": "bf2424b5-1714-4374-fa2f-8f3515f3c7cc"
      },
      "source": [
        "(0.92*269+0.99*1164+0.9*69)/(269+1164+69)"
      ],
      "execution_count": null,
      "outputs": [
        {
          "output_type": "execute_result",
          "data": {
            "text/plain": [
              "0.973328894806924"
            ]
          },
          "metadata": {},
          "execution_count": 3
        }
      ]
    }
  ]
}